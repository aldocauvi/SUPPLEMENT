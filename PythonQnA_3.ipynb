{
 "cells": [
  {
   "cell_type": "markdown",
   "metadata": {},
   "source": [
    "## 3. Point of No Return"
   ]
  },
  {
   "cell_type": "markdown",
   "metadata": {},
   "source": [
    "What a function returns and what it does not can cause a lot of confusion, especially if the function causes some side effects in addition to returning a value. Here's the difference:\n",
    "* Functions return some object, like a number, a string, an element of a class, or even another function. If the body of a function doesn't contain a return statement, Python assumes that the function returns a `None`.\n",
    "* Functions might make some side effects, meaning it change some state (usually a variable) that was originally defined outside its scope.\n",
    "\n",
    "A common side effect is printing some value within your function. Side effects have the potential to cause confusion. You might often see that the result of your function being printed out, but the return value of your function call doesn't seem to contain the result you just calculated.\n",
    "\n",
    "Consider the following case as an example. What do you expect the result of the second `print` statement to be ?"
   ]
  },
  {
   "cell_type": "code",
   "execution_count": null,
   "metadata": {},
   "outputs": [],
   "source": [
    "def function_of_no_return(a):\n",
    "    print (\"Parameter passed to the function is {0}\".format(a))\n",
    "    \n",
    "x = function_of_no_return(42)\n",
    "print ('Function returns', x)"
   ]
  },
  {
   "cell_type": "markdown",
   "metadata": {},
   "source": [
    "If a function returns nothing, nothing (or **None** in Python) is going to be printed.\n",
    "\n",
    "But what if our function returns a print statement?"
   ]
  },
  {
   "cell_type": "code",
   "execution_count": null,
   "metadata": {},
   "outputs": [],
   "source": [
    "def function_of_print_return(a):\n",
    "    return print (\"Parameter passed to the function is {0}\".format(a))\n",
    "    \n",
    "x = function_of_print_return(42)\n",
    "print ('Function returns', x)"
   ]
  },
  {
   "cell_type": "markdown",
   "metadata": {},
   "source": [
    "You might say *\"Waaaaait a second, there is a **return** here in my function!\"*. Well, that's kinda true. Here **return** returns whatever the print function returns. Since the `print` function returns **None**, and as a __side effect__ of its work it prints whatever you've asked, you should expect a `None` result. In other words, although print function prints out some text in human readable form on your Input/Output device (Out cell), it does not return any useful Python object.\n",
    "\n",
    "If you want to print __and__ return something, you need to call the print function from your function as well as return a value that you need using the `return` statement."
   ]
  },
  {
   "cell_type": "code",
   "execution_count": null,
   "metadata": {},
   "outputs": [],
   "source": [
    "def proper_function(a):\n",
    "    print (\"Parameter passed to the function is {0}\".format(a))\n",
    "    return a\n",
    "    \n",
    "x = proper_function(42)\n",
    "print ('Function returns', x)"
   ]
  },
  {
   "cell_type": "markdown",
   "metadata": {},
   "source": [
    "Now let's do something useful. Here's a function that should return an integer part of half of a number. So, **half(5) == 2**, as well as **half(4) == 2**. The problem is, the function is faulty and it doesn't do what it should (clearly, someone with knowledge of Python 2, not Python 3 wrote it). Add some print statements to debug and modify the function so it passes testcases."
   ]
  },
  {
   "cell_type": "code",
   "execution_count": null,
   "metadata": {},
   "outputs": [],
   "source": [
    "def half(num):\n",
    "    h = num/2\n",
    "    return h\n",
    "\n",
    "h_true = 2\n",
    "\n",
    "h = half(4)\n",
    "print(\"half(4) -> {} [True: {}]\".format(h, h_true))\n",
    "assert h == h_true\n",
    "assert type(h) == int\n",
    "\n",
    "h = half(5)\n",
    "print(\"half(5) -> {} [True: {}]\".format(h, h_true))\n",
    "assert h == h_true\n",
    "assert type(h) == int\n",
    "\n",
    "print(\"\\n(Passed!)\")"
   ]
  }
 ],
 "metadata": {
  "kernelspec": {
   "display_name": "Python 3",
   "language": "python",
   "name": "python3"
  },
  "language_info": {
   "codemirror_mode": {
    "name": "ipython",
    "version": 3
   },
   "file_extension": ".py",
   "mimetype": "text/x-python",
   "name": "python",
   "nbconvert_exporter": "python",
   "pygments_lexer": "ipython3",
   "version": "3.6.1"
  }
 },
 "nbformat": 4,
 "nbformat_minor": 2
}
