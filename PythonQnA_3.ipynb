{
 "cells": [
  {
   "cell_type": "markdown",
   "metadata": {},
   "source": [
    "## 3. Point of No Return"
   ]
  },
  {
   "cell_type": "markdown",
   "metadata": {},
   "source": [
    "What function return and what it does not also can cause a lot of confusion. Especially if in addition to return function cause some side effects. Here's the difference:\n",
    "* Function return some object, like a number, a string, an element of a class, or even another function.\n",
    "* Function might make some side effects, meaning it change some state outside its scope.\n",
    "\n",
    "One of quite common side effects is printing something out of your function. All side effects might cause confusion, but print is a very powerful beast: indeed, you just saw the result in your Out cell, why the heck python doesn't see that too?\n",
    "\n",
    "Lets try to ~~print~~ figure that out using a dummy function that prints its parameter and returns (or not?):"
   ]
  },
  {
   "cell_type": "code",
   "execution_count": null,
   "metadata": {},
   "outputs": [],
   "source": [
    "def function_of_no_return(a):\n",
    "    print (\"Parameter passed to the function is {0}\".format(a))\n",
    "    \n",
    "x = function_of_no_return(42)\n",
    "print ('Function returns', x)"
   ]
  },
  {
   "cell_type": "markdown",
   "metadata": {},
   "source": [
    "Indeed, if function return nothing, nothing (or **None** in python isgoing to be print.\n",
    "\n",
    "But what if our function returns print?"
   ]
  },
  {
   "cell_type": "code",
   "execution_count": null,
   "metadata": {},
   "outputs": [],
   "source": [
    "def function_of_print_return(a):\n",
    "    return print (\"Parameter passed to the function is {0}\".format(a))\n",
    "    \n",
    "x = function_of_print_return(42)\n",
    "print ('Function returns', x)"
   ]
  },
  {
   "cell_type": "markdown",
   "metadata": {},
   "source": [
    "You might say *\"Waaaaait a second, there is a **return** here in my function!\"*. Well, that's kinda true. Here **return** returns whatever the print function returns. Appareently, print function returns **None**, and as a __side effect__ of its work it prints whatever you've asked. In other words, although print function returns you some text in human readable form on your Input/Output device (Out cell), it does not return anything valuable for python.\n",
    "\n",
    "If you want to both print __and__ return something, you need __both__ call print function from your function, and return a value that you need."
   ]
  },
  {
   "cell_type": "code",
   "execution_count": null,
   "metadata": {},
   "outputs": [],
   "source": [
    "def proper_function(a):\n",
    "    print (\"Parameter passed to the function is {0}\".format(a))\n",
    "    return a\n",
    "    \n",
    "x = proper_function(42)\n",
    "print ('Function returns', x)"
   ]
  },
  {
   "cell_type": "markdown",
   "metadata": {},
   "source": [
    "Now let's do something useful. Here's the function that should return an integer part of half of a number. So, **half(5) == 2**, as well as **half(4) == 2**. The problem is, the function is faulty and it doesn't do what it should (clearly, someone with knowledge of Python 2, not Python 3 wrote it). Add some print statements and change it so it passes testcases."
   ]
  },
  {
   "cell_type": "code",
   "execution_count": null,
   "metadata": {},
   "outputs": [],
   "source": [
    "def half(num):\n",
    "    h = num/2\n",
    "    return h\n",
    "\n",
    "h_true = 2\n",
    "\n",
    "h = half(4)\n",
    "print(\"half(4) -> {} [True: {}]\".format(h, h_true))\n",
    "assert h == h_true\n",
    "assert type(h) == int\n",
    "\n",
    "h = half(5)\n",
    "print(\"half(5) -> {} [True: {}]\".format(h, h_true))\n",
    "assert h == h_true\n",
    "assert type(h) == int\n",
    "\n",
    "print(\"\\n(Passed!)\")"
   ]
  }
 ],
 "metadata": {
  "kernelspec": {
   "display_name": "Python 3",
   "language": "python",
   "name": "python3"
  },
  "language_info": {
   "codemirror_mode": {
    "name": "ipython",
    "version": 3
   },
   "file_extension": ".py",
   "mimetype": "text/x-python",
   "name": "python",
   "nbconvert_exporter": "python",
   "pygments_lexer": "ipython3",
   "version": "3.6.2"
  }
 },
 "nbformat": 4,
 "nbformat_minor": 2
}
