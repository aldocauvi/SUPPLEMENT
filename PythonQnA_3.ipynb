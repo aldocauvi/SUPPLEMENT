{
 "cells": [
  {
   "cell_type": "markdown",
   "metadata": {},
   "source": [
    "## 3. Point of No Return"
   ]
  },
  {
   "cell_type": "markdown",
   "metadata": {},
   "source": [
    "What a function does and does not return can cause a lot of confusion. Especially if a function both returns a value *and* causes some side effect. That is:\n",
    "\n",
    "* A function may return some object, like a number, a string, an element of a class, or even another function.\n",
    "* A function may cause a side effect, meaning it changes some state outside of its scope."
   ]
  },
  {
   "cell_type": "markdown",
   "metadata": {},
   "source": [
    "One quite common side effect is printing something out within your function. All side effects might cause confusion, but print is a very powerful beast: indeed, you just saw the result in your Out cell, why the heck doesn't Python see that too?\n",
    "\n",
    "Lets try to ~~print~~ understand that idea using a dummy function that prints its parameter and returns (or does it?):"
   ]
  },
  {
   "cell_type": "code",
   "execution_count": 1,
   "metadata": {
    "collapsed": false
   },
   "outputs": [
    {
     "name": "stdout",
     "output_type": "stream",
     "text": [
      "Parameter passed to the function is 42\n",
      "Function returns None\n"
     ]
    }
   ],
   "source": [
    "def function_of_no_return(a):\n",
    "    print (\"Parameter passed to the function is {0}\".format(a))\n",
    "    \n",
    "x = function_of_no_return(42)\n",
    "print ('Function returns', x)"
   ]
  },
  {
   "cell_type": "markdown",
   "metadata": {},
   "source": [
    "Indeed, if function return nothing, nothing (or **`None`** in Python) is going to be printed.\n",
    "\n",
    "But what if our function _returns_ print?"
   ]
  },
  {
   "cell_type": "code",
   "execution_count": 2,
   "metadata": {
    "collapsed": false
   },
   "outputs": [
    {
     "name": "stdout",
     "output_type": "stream",
     "text": [
      "Parameter passed to the function is 42\n",
      "Function returns None\n"
     ]
    }
   ],
   "source": [
    "def function_of_print_return(a):\n",
    "    return print (\"Parameter passed to the function is {0}\".format(a))\n",
    "    \n",
    "x = function_of_print_return(42)\n",
    "print ('Function returns', x)"
   ]
  },
  {
   "cell_type": "markdown",
   "metadata": {},
   "source": [
    "You might say *\"Waaaaait a second, there is a **return** here in my function!\"*. Well, that's kinda true. Here **return** returns whatever the print function returns. Apparently, `print()` returns **None**, and as a __side effect__ of its work it prints whatever you've asked. In other words, although print returns some text in human readable form on your Input/Output device (Out cell), it does not return a value.\n",
    "\n",
    "If you want to both print __and__ return something, you need to __both__ call print from your function *and* return a value that you need."
   ]
  },
  {
   "cell_type": "code",
   "execution_count": 3,
   "metadata": {
    "collapsed": false
   },
   "outputs": [
    {
     "name": "stdout",
     "output_type": "stream",
     "text": [
      "Parameter passed to the function is 42\n",
      "Function returns 42\n"
     ]
    }
   ],
   "source": [
    "def proper_function(a):\n",
    "    print (\"Parameter passed to the function is {0}\".format(a))\n",
    "    return a\n",
    "    \n",
    "x = proper_function(42)\n",
    "print ('Function returns', x)"
   ]
  }
 ],
 "metadata": {
  "kernelspec": {
   "display_name": "Python 3",
   "language": "python",
   "name": "python3"
  },
  "language_info": {
   "codemirror_mode": {
    "name": "ipython",
    "version": 3
   },
   "file_extension": ".py",
   "mimetype": "text/x-python",
   "name": "python",
   "nbconvert_exporter": "python",
   "pygments_lexer": "ipython3",
   "version": "3.5.3"
  }
 },
 "nbformat": 4,
 "nbformat_minor": 2
}
