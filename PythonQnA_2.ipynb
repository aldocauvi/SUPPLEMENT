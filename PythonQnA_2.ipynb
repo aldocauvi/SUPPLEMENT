{
 "cells": [
  {
   "cell_type": "markdown",
   "metadata": {},
   "source": [
    "## 2. Inception"
   ]
  },
  {
   "cell_type": "markdown",
   "metadata": {},
   "source": [
    "Every program in python (as well as in almost any other programming language) operates with variables, and every veriable has it's name. This concept is so natural we don't really think about that, and that's where some traps are waiting for us. The name for this trap a scope of variables. Lets write a simple function that prints a variable:"
   ]
  },
  {
   "cell_type": "code",
   "execution_count": 1,
   "metadata": {},
   "outputs": [
    {
     "name": "stdout",
     "output_type": "stream",
     "text": [
      "Printing from inside function 42\n",
      "Printing from outside function 42\n"
     ]
    }
   ],
   "source": [
    "a = 42\n",
    "def my_print():\n",
    "    print(\"Printing from inside function\", a)\n",
    "my_print()\n",
    "print(\"Printing from outside function\", a)"
   ]
  },
  {
   "cell_type": "markdown",
   "metadata": {},
   "source": [
    "Nothing unusual. But what if we change our function a little bit:"
   ]
  },
  {
   "cell_type": "code",
   "execution_count": 2,
   "metadata": {},
   "outputs": [
    {
     "name": "stdout",
     "output_type": "stream",
     "text": [
      "Printing from inside function 1\n",
      "Printing from outside function 42\n"
     ]
    }
   ],
   "source": [
    "a = 42\n",
    "def my_print():\n",
    "    a = 1\n",
    "    print(\"Printing from inside function\", a)\n",
    "my_print()\n",
    "print(\"Printing from outside function\", a)"
   ]
  },
  {
   "cell_type": "markdown",
   "metadata": {},
   "source": [
    "Now we have two **\"a\"** variables, one is inside function, and one is outside function. When we enter the function, calling **\"a\"** automatically means accessing the variable living inside the fanction. In other words, scope of this variable is function **my_print**. When we return from the fucntion, scope of function get deleted, and by calling **\"a\"** we are accessing function with the global scope, or in our case with the scope of this Notebook.\n",
    "\n",
    "If we have the same variable names in global scope and as function parameter (in function scope), they works the same way:"
   ]
  },
  {
   "cell_type": "code",
   "execution_count": 3,
   "metadata": {},
   "outputs": [
    {
     "name": "stdout",
     "output_type": "stream",
     "text": [
      "Printing from inside function 1\n",
      "Printing from outside function 42\n"
     ]
    }
   ],
   "source": [
    "a = 42\n",
    "def my_print(a):\n",
    "    print(\"Printing from inside function\", a)\n",
    "my_print(1)\n",
    "print(\"Printing from outside function\", a)"
   ]
  },
  {
   "cell_type": "markdown",
   "metadata": {},
   "source": [
    "However, if we want to change that and access the **\"a\"** variable from the global scope, we still can do that using **global** keyword."
   ]
  },
  {
   "cell_type": "code",
   "execution_count": 4,
   "metadata": {},
   "outputs": [
    {
     "name": "stdout",
     "output_type": "stream",
     "text": [
      "Printing from inside function 42\n",
      "Printing from outside function 42\n"
     ]
    }
   ],
   "source": [
    "a = 42\n",
    "def my_print():\n",
    "    global a\n",
    "    print(\"Printing from inside function\", a)\n",
    "my_print()\n",
    "print(\"Printing from outside function\", a)"
   ]
  },
  {
   "cell_type": "markdown",
   "metadata": {},
   "source": [
    "However, in that case we can't use the same name for both global variable and function parameter. Similar thing happens when we try to call global variable, and than try to change it without using **global** keyword: we're going to see an error because python see that **a** is eventually a local variable, but we try to access it (print in our case) before we deifine it "
   ]
  },
  {
   "cell_type": "code",
   "execution_count": 5,
   "metadata": {},
   "outputs": [
    {
     "name": "stdout",
     "output_type": "stream",
     "text": [
      "UnboundLocalError: local variable 'a' referenced before assignment\n",
      "Printing from outside function 42\n"
     ]
    }
   ],
   "source": [
    "a = 42\n",
    "def my_print():\n",
    "    try:\n",
    "        print(\"Printing GLOBAL variable from inside function\", a)\n",
    "    except:\n",
    "        print (\"UnboundLocalError: local variable 'a' referenced before assignment\")\n",
    "        return\n",
    "    a = 3\n",
    "    print(\"Printing from inside function\", a)\n",
    "my_print()\n",
    "print(\"Printing from outside function\", a)"
   ]
  },
  {
   "cell_type": "markdown",
   "metadata": {},
   "source": [
    "This error is very common case case for Jupyter Notebooks and hence it's important to understand it. Quite often when you restart your notebook and run a cell in the middle of the notebook, you see the similar type of error that name is not definied. That happens because when you restart your notebook, it's context get cleaned, and if you don't have the variable defined in the same cell, that means the variable does not exist in the scope of the notebook. All the cells have the same scope, but the way it's populated is determined by the running order of notebook cells."
   ]
  }
 ],
 "metadata": {
  "kernelspec": {
   "display_name": "Python 3",
   "language": "python",
   "name": "python3"
  },
  "language_info": {
   "codemirror_mode": {
    "name": "ipython",
    "version": 3
   },
   "file_extension": ".py",
   "mimetype": "text/x-python",
   "name": "python",
   "nbconvert_exporter": "python",
   "pygments_lexer": "ipython3",
   "version": "3.6.1"
  }
 },
 "nbformat": 4,
 "nbformat_minor": 2
}
