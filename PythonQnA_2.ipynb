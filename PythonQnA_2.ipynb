{
 "cells": [
  {
   "cell_type": "markdown",
   "metadata": {},
   "source": [
    "## 2. Inception"
   ]
  },
  {
   "cell_type": "markdown",
   "metadata": {},
   "source": [
    "Every program in Python (among most other programming languages) uses variables, and every variable has a name. This concept is so natural we don't really think about it---and that's where traps and pitfalls await! The name for this trap is the _scope_ of a variable."
   ]
  },
  {
   "cell_type": "markdown",
   "metadata": {},
   "source": [
    "To define this concept, it's helpful to see it in action first. Consider the following simple example of a function that prints the value of a variable named `a`."
   ]
  },
  {
   "cell_type": "code",
   "execution_count": null,
   "metadata": {
    "collapsed": false
   },
   "outputs": [],
   "source": [
    "a = 42\n",
    "\n",
    "def my_print():\n",
    "    print(\"Printing from inside function\", a)\n",
    "    \n",
    "my_print()\n",
    "print(\"Printing from outside function\", a)"
   ]
  },
  {
   "cell_type": "markdown",
   "metadata": {},
   "source": [
    "There is one variable named `a` and its value is 42. Thus, there should be nothing unusual or surprising about the output as all occurrences of `a` in the program will refer to this variable."
   ]
  },
  {
   "cell_type": "markdown",
   "metadata": {},
   "source": [
    "But what if we _change_ our function by having it create a new variable, also named `a`?"
   ]
  },
  {
   "cell_type": "code",
   "execution_count": null,
   "metadata": {
    "collapsed": false
   },
   "outputs": [],
   "source": [
    "a = 42 # Line 1\n",
    "\n",
    "def my_print():\n",
    "    a = 1  # Line 4\n",
    "    print(\"Printing from inside function\", a) # Line 5\n",
    "    \n",
    "my_print()  # Line 7\n",
    "print(\"Printing from outside function\", a) # Line 8"
   ]
  },
  {
   "cell_type": "markdown",
   "metadata": {},
   "source": [
    "Now we appear to have two **`a`** variables: one is \"inside\" the function and one is \"outside.\" When the program calls `my_print()` on line 7, it begins executing the `my_print()` function at line 4, which creates a _new_ variable named `a`, whose value is 1. Within the function, any reference to `a`, such as the one on line 5, will refer to this new `a` not the original `a` (whose value is 42)."
   ]
  },
  {
   "cell_type": "markdown",
   "metadata": {},
   "source": [
    "In computing lingo, we say that the _scope_ of the variable named `a` on line 4 is the function, **`my_print()`**. We sometimes also say that the `a` on line 4 is _local_ to `my_print()`. We also say that the `a` on line 1 is in _global scope_.\n",
    "\n",
    "When the program finishes executing `my_print()`, the scope \"vanishes\" and the name `a` on line 4 is no longer visible. That's why the print on line 8 now refers back to the `a` whose value is 42."
   ]
  },
  {
   "cell_type": "markdown",
   "metadata": {},
   "source": [
    "If we have the same variable names in global scope and as function parameter (in function scope), they work the same way:"
   ]
  },
  {
   "cell_type": "code",
   "execution_count": null,
   "metadata": {
    "collapsed": false
   },
   "outputs": [],
   "source": [
    "a = 42\n",
    "\n",
    "def my_print(a):\n",
    "    print(\"Printing from inside function\", a)\n",
    "    \n",
    "my_print(1)\n",
    "print(\"Printing from outside function\", a)"
   ]
  },
  {
   "cell_type": "markdown",
   "metadata": {},
   "source": [
    "However, if we want to change that and access the **`a`** variable from global scope, we still can do that using **global** keyword."
   ]
  },
  {
   "cell_type": "code",
   "execution_count": null,
   "metadata": {
    "collapsed": false
   },
   "outputs": [],
   "source": [
    "a = 42\n",
    "\n",
    "def my_print():\n",
    "    global a\n",
    "    print(\"Printing from inside function\", a)\n",
    "    \n",
    "my_print()\n",
    "print(\"Printing from outside function\", a)"
   ]
  },
  {
   "cell_type": "markdown",
   "metadata": {},
   "source": [
    "However, a function cannot simultaneously reference global and local variables with the same name. That means if you have a `global a` within a function, none of the parameters may be named `a`.\n",
    "\n",
    "Similarly, consider this scenario:"
   ]
  },
  {
   "cell_type": "code",
   "execution_count": null,
   "metadata": {
    "collapsed": false
   },
   "outputs": [],
   "source": [
    "a = 42\n",
    "\n",
    "def my_print():\n",
    "    try:\n",
    "        print(\"Printing GLOBAL variable from inside function\", a)\n",
    "    except:\n",
    "        print (\"UnboundLocalError: local variable 'a' referenced before assignment\")\n",
    "        return\n",
    "    a = 3\n",
    "    print(\"Printing from inside function\", a)\n",
    "    \n",
    "my_print()\n",
    "print(\"Printing from outside function\", a)"
   ]
  },
  {
   "cell_type": "markdown",
   "metadata": {},
   "source": [
    "This error is very common case case in Jupyter Notebooks and hence it's important to understand. Quite often when you restart your notebook and run a cell in the middle of the notebook, you'll see a similar type of error whose name is not definied. That happens because when you restart your notebook, it's context is reset; and if you don't have the variable defined in the same cell, the variable does not exist in the scope of the notebook. All the cells have the same scope, but the way variables are populated is determined by the running order of notebook cells."
   ]
  },
  {
   "cell_type": "markdown",
   "metadata": {},
   "source": [
    "**Exercise.** A terrific tool for _visualizing_ the concept of scopes is Phil Guo's [Python Tutor](http://www.pythontutor.com/). Visit that website and click on the \"Start visualizing your code now\" link. Enter any of the above programs into the code box you see, and then do a line-by-line execution to see how variables are created and come to exist in different scopes.\n",
    "\n",
    "Then try visualizing this program. See if you can predict what it will output before you run it."
   ]
  },
  {
   "cell_type": "code",
   "execution_count": null,
   "metadata": {
    "collapsed": false
   },
   "outputs": [],
   "source": [
    "x = 1\n",
    "\n",
    "def foo(x):\n",
    "    # Q: Can you use `global x` at this part of the program?\n",
    "    def bar(y):\n",
    "        global x\n",
    "        print(\"bar: x == {}, y == {}\".format(x, y))\n",
    "        \n",
    "    print(\"foo: x == {}\".format(x))\n",
    "    x -= 3\n",
    "    bar(2*x)\n",
    "    \n",
    "print(\"x == {}\".format(x))\n",
    "foo(5)\n",
    "print(\"x == {}\".format(x))"
   ]
  },
  {
   "cell_type": "code",
   "execution_count": null,
   "metadata": {
    "collapsed": true
   },
   "outputs": [],
   "source": []
  }
 ],
 "metadata": {
  "kernelspec": {
   "display_name": "Python 3",
   "language": "python",
   "name": "python3"
  },
  "language_info": {
   "codemirror_mode": {
    "name": "ipython",
    "version": 3
   },
   "file_extension": ".py",
   "mimetype": "text/x-python",
   "name": "python",
   "nbconvert_exporter": "python",
   "pygments_lexer": "ipython3",
   "version": "3.5.3"
  }
 },
 "nbformat": 4,
 "nbformat_minor": 2
}
