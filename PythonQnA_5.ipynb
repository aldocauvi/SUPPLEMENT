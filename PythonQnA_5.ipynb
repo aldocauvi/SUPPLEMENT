{
 "cells": [
  {
   "cell_type": "markdown",
   "metadata": {},
   "source": [
    "## 5. Squared Wheel and Other Reinventions"
   ]
  },
  {
   "cell_type": "markdown",
   "metadata": {
    "collapsed": true
   },
   "source": [
    "Many a times, we hear discussions about writing programs using Python in the \"most Pythonic way.\" Sometimes it's more of a philosophy; however, quite often there might be a more concrete message: \"Do not re-invent the wheel.\" Indeed, Python is a wonderful language full of lots of built-in libraries. If you need anything, it is most likely implemented in the language. It takes no more than a dozen lines of code to solve many common problems. This is the result of Python's \"batteries included\" approach to design of the language and libraries.\n",
    "\n",
    "Read this article for more information: https://docs.python.org/3/tutorial/stdlib.html\n",
    "\n",
    "To illustrate some of these ideas, let's consider a couple different computational tasks and look at different ways to write a correct program for each."
   ]
  },
  {
   "cell_type": "markdown",
   "metadata": {},
   "source": [
    "**Example: String concatenation.** Let's try to create a string from the words in a list. A common style in other programming languages, like C/C++ or Java, is the \"scalar loop form.\""
   ]
  },
  {
   "cell_type": "code",
   "execution_count": null,
   "metadata": {
    "collapsed": true
   },
   "outputs": [],
   "source": [
    "# Task: Concatenate a list of strings into a single string\n",
    "# delimited by spaces.\n",
    "\n",
    "list_of_words = ['the', 'quick', 'brown', 'fox', 'jumped', 'over', 'the', 'lazy', 'dog']\n",
    "\n",
    "i = 0 # A counter to maintain the current position in the list\n",
    "new_string = '' # String to hold the output\n",
    "while i < len(list_of_words): # Iterate over words\n",
    "    new_string += list_of_words[i]\n",
    "    i += 1\n",
    "    # Add a space to join the words together if it's not the last word\n",
    "    if i < len(list_of_words):\n",
    "        new_string += ' '\n",
    "\n",
    "print (\"The resulting string is '\" + new_string + \"'.\")"
   ]
  },
  {
   "cell_type": "markdown",
   "metadata": {},
   "source": [
    "This \"pattern\" of code is sometimes referred to as a classic \"procedural\" approach.\n",
    "\n",
    "Now let's consider a more Pythonic approach."
   ]
  },
  {
   "cell_type": "code",
   "execution_count": null,
   "metadata": {
    "collapsed": true
   },
   "outputs": [],
   "source": [
    "list_of_words = ['the', 'quick', 'brown', 'fox', 'jumped', 'over', 'the', 'lazy', 'dog']\n",
    "\n",
    "i = 0 # Current position in the list\n",
    "new_string = '' # String to hold the output\n",
    "\n",
    "for word in list_of_words: # Iterate over words\n",
    "    new_string += word\n",
    "    i += 1\n",
    "    # Add a space to join the words together if it's not the last word\n",
    "    if i < len(list_of_words):\n",
    "        new_string += ' '\n",
    "\n",
    "print (\"The resulting string is '\" + new_string + \"'.\")"
   ]
  },
  {
   "cell_type": "markdown",
   "metadata": {},
   "source": [
    "A little cleaner, but not too much. The main difference is to (largely) replace the counter-based while-loop with a more idiomatic for-loop, using a syntax for iterating over collections that mimics mathematical notation. (That is, \"for each `word` in `list_of_words` ...\") However, we still need to maintain a counter to omit the last space. But we can do better!"
   ]
  },
  {
   "cell_type": "code",
   "execution_count": null,
   "metadata": {
    "collapsed": true
   },
   "outputs": [],
   "source": [
    "list_of_words = ['the', 'quick', 'brown', 'fox', 'jumped', 'over', 'the', 'lazy', 'dog']\n",
    "\n",
    "# Create and empty string\n",
    "new_string = ''\n",
    "# Iterate through all words and enumerate them\n",
    "for i, word in enumerate(list_of_words):\n",
    "    new_string += word\n",
    "    # Add a space to join the words together if it's not the last word\n",
    "    if i < len(list_of_words)-1:\n",
    "        new_string += ' '\n",
    "\n",
    "print (\"The resulting string is '\" + new_string + \"'.\")"
   ]
  },
  {
   "cell_type": "markdown",
   "metadata": {},
   "source": [
    "The counter always increases \"in sync\" with iteration over the list of words. The **`enumerate()`** function captures this pattern succinctly.\n",
    "\n",
    "Pretty good, but we can do **even** better."
   ]
  },
  {
   "cell_type": "code",
   "execution_count": null,
   "metadata": {
    "collapsed": true
   },
   "outputs": [],
   "source": [
    "list_of_words = ['the', 'quick', 'brown', 'fox', 'jumped', 'over', 'the', 'lazy', 'dog']\n",
    "new_string = ' '.join(list_of_words)\n",
    "print (\"The resulting string is '\" + new_string + \"'.\")"
   ]
  },
  {
   "cell_type": "markdown",
   "metadata": {},
   "source": [
    "A single line of code just solved the whole problem! That's the power of the language and its full-featured library."
   ]
  },
  {
   "cell_type": "markdown",
   "metadata": {},
   "source": [
    "**Example: Computing the mean.** Now let's look at another problem where we compute the mean of all the elements in an array.  Then we will calculate the distance from the mean for every element."
   ]
  },
  {
   "cell_type": "code",
   "execution_count": null,
   "metadata": {
    "collapsed": true
   },
   "outputs": [],
   "source": [
    "array = [1, 2, 3, 4, 5, 6]\n",
    "\n",
    "mean = 0\n",
    "for i in range(len(array)):\n",
    "    mean += array[i]\n",
    "mean /= len(array)\n",
    "\n",
    "dist = []\n",
    "for i in range(len(array)):\n",
    "    dist += [array[i] - mean]\n",
    "\n",
    "print (\"The mean of the array\", array, \"is\", mean, \"and the distances are\", dist)"
   ]
  },
  {
   "cell_type": "markdown",
   "metadata": {},
   "source": [
    "But we can compute at least the mean with less code using the built-in library function, **`sum()`**."
   ]
  },
  {
   "cell_type": "code",
   "execution_count": null,
   "metadata": {
    "collapsed": true
   },
   "outputs": [],
   "source": [
    "array = [1, 2, 3, 4, 5, 6]\n",
    "\n",
    "mean = sum(array) / len(array)\n",
    "\n",
    "dist = []\n",
    "for i in range(len(array)):\n",
    "    dist += [array[i] - mean]\n",
    "\n",
    "print (\"The mean of the array\", array, \"is\", mean, \"distances are\", dist)"
   ]
  },
  {
   "cell_type": "markdown",
   "metadata": {},
   "source": [
    "Now we can try to compute distances in a more Pythonic way, again using the more idiomatic for-loop syntax for iterating over elements of a collection:"
   ]
  },
  {
   "cell_type": "code",
   "execution_count": null,
   "metadata": {},
   "outputs": [],
   "source": [
    "array = [1, 2, 3, 4, 5, 6]\n",
    "\n",
    "mean = sum(array) / len(array)\n",
    "\n",
    "dist = []\n",
    "for element in array:\n",
    "    dist += [element - mean]\n",
    "\n",
    "print (\"The mean of the array\", array, \"is\", mean, \"distances are\", dist)"
   ]
  },
  {
   "cell_type": "markdown",
   "metadata": {},
   "source": [
    "Finally, we can make it even more compact with *list comprehensions*, which are designed for \"tiny for loops,\" that is, for loops whose iterations are independent and whose bodies are simple or small functions."
   ]
  },
  {
   "cell_type": "code",
   "execution_count": null,
   "metadata": {
    "collapsed": true
   },
   "outputs": [],
   "source": [
    "array = [1, 2, 3, 4, 5, 6]\n",
    "\n",
    "mean = sum(array) / len(array)\n",
    "dist = [element - mean for element in array]\n",
    "\n",
    "print (\"The mean of the array\", array, \"is\", mean, \"distances are\", dist)"
   ]
  },
  {
   "cell_type": "markdown",
   "metadata": {},
   "source": [
    "**Example: Lists to dictionaries.** Now let's try to create a new dictionary from two lists.\n",
    "\n",
    "Suppose we have two lists of first and last names. In this case, the lists are aligned: there is a one-to-one correspondence between elements of one list and the other. Further suppose our task is to create a new dictionary that would allow us to quickly look up the first name, given the last name."
   ]
  },
  {
   "cell_type": "code",
   "execution_count": null,
   "metadata": {
    "collapsed": true
   },
   "outputs": [],
   "source": [
    "first_names = ['Leonard', 'Sheldon', 'Howard', 'Rajesh']\n",
    "last_names = ['Hofstadter', 'Cooper', 'Wolowitz', 'Koothrappali']\n",
    "\n",
    "name_dict = {}\n",
    "for name_ind in range(len(last_names)):\n",
    "    name_dict[last_names[name_ind]] = first_names[name_ind]\n",
    "print (\"Name dictionary is\", name_dict)"
   ]
  },
  {
   "cell_type": "markdown",
   "metadata": {},
   "source": [
    "And now everything is the same, in a more Pythonic way: simultaneously iterating over two collections where there is a one-to-one correspondence is a pattern referred to as a \"zipper iteration,\" which Python handles nicely via its **`zip()`** function."
   ]
  },
  {
   "cell_type": "code",
   "execution_count": null,
   "metadata": {
    "collapsed": true
   },
   "outputs": [],
   "source": [
    "first_names = ['Leonard', 'Sheldon', 'Howard', 'Rajesh']\n",
    "last_names = ['Hofstadter', 'Cooper', 'Wolowitz', 'Koothrappali']\n",
    "\n",
    "name_dict = dict(zip(last_names, first_names))\n",
    "print (\"Name dictionary is\", name_dict)"
   ]
  },
  {
   "cell_type": "markdown",
   "metadata": {},
   "source": [
    "**Exercise.** Now, enlightened by all this knowledge, let's try to write a function that takes a string, drops all the words that contain letter __'o'__, and return a new string without these words. In Python, it's truly a single line function :)"
   ]
  },
  {
   "cell_type": "code",
   "execution_count": null,
   "metadata": {
    "collapsed": true
   },
   "outputs": [],
   "source": [
    "def pick_o(s):\n",
    "    pass"
   ]
  },
  {
   "cell_type": "code",
   "execution_count": null,
   "metadata": {
    "collapsed": true
   },
   "outputs": [],
   "source": [
    "s = 'the quick brown fox jumped over the lazy dog'\n",
    "true_string = 'brown fox over dog'\n",
    "new_string = pick_o(s)\n",
    "print(\"pick_o('{}') -> '{}' [True: '{}']\".format(s, new_string, true_string))\n",
    "assert new_string == true_string"
   ]
  }
 ],
 "metadata": {
  "kernelspec": {
   "display_name": "Python 3",
   "language": "python",
   "name": "python3"
  },
  "language_info": {
   "codemirror_mode": {
    "name": "ipython",
    "version": 3
   },
   "file_extension": ".py",
   "mimetype": "text/x-python",
   "name": "python",
   "nbconvert_exporter": "python",
   "pygments_lexer": "ipython3",
   "version": "3.6.1"
  }
 },
 "nbformat": 4,
 "nbformat_minor": 2
}
