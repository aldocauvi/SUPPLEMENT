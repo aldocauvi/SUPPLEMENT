{
 "cells": [
  {
   "cell_type": "markdown",
   "metadata": {},
   "source": [
    "## 4. Mutant list and other X-Men"
   ]
  },
  {
   "cell_type": "markdown",
   "metadata": {},
   "source": [
    "Lists are one of the most useful and most confusing data structures in python. What confuses most about list is for sure it's mutability. So what is mutability? And why can't we use lists as keys in dictionaries? Let's try to figure it out playing with lists and mutating them (careful, mutations may be hazardous!)"
   ]
  },
  {
   "cell_type": "code",
   "execution_count": 1,
   "metadata": {},
   "outputs": [
    {
     "name": "stdout",
     "output_type": "stream",
     "text": [
      "The list we created: [0, 1, 2, 3, 4] of length 5\n",
      "The second list we created: [6, 7, 8, 9] of length 4\n",
      "The first list after we changed a couple of elements is [0, 6, 7, 8, 9, 3, 4] with new length 7\n"
     ]
    }
   ],
   "source": [
    "a = list(range(5))\n",
    "print (\"The list we created:\", a, \"of length\", len(a))\n",
    "\n",
    "b = list(range(6,10))\n",
    "print (\"The second list we created:\", b, \"of length\", len(b))\n",
    "\n",
    "a[1:3] = b\n",
    "print (\"The first list after we changed a couple of elements is\", a, \"with new length\", len(a))"
   ]
  },
  {
   "cell_type": "markdown",
   "metadata": {},
   "source": [
    "Interesting... We've just wanted to change two elements, but added four instead! Or rather mutated list **a** with list **b**. Truth is, it's really easy to change, or mutate the list. Virtually any action on the list changes its structure, length, elements order, or something else very important. After mutation, it's the same list with the same variable name, but a different content."
   ]
  },
  {
   "cell_type": "markdown",
   "metadata": {},
   "source": [
    "Now when we understand what \"*mutable*\" means, lets try to get what's \"*hashable*\". As you should know by know, \n",
    "python provides built-in collections, namely **dict** and **set**, that provide almost instant access to the elements they store (in terms of algorithmic complexity). The way they implement that is through the **\\_\\_hash\\_\\_()** method. This methods calls a special function that returns a certain number (its **\"hash\"**) for every object (except for those that don't support hashes). You can read more about hash function on [Wikipedia](https://en.wikipedia.org/wiki/Hash_function). If an object has **\\_\\_hash\\_\\_()** method implemented, that means it is hashable. We can check how it works trying to call **hash()** function on different data types:"
   ]
  },
  {
   "cell_type": "code",
   "execution_count": 2,
   "metadata": {},
   "outputs": [
    {
     "name": "stdout",
     "output_type": "stream",
     "text": [
      "hash of int(42) is 42\n",
      "hash of float(42.001) is 2305843009208362\n",
      "hash of str('42') is -3570068680572166315\n",
      "TypeError: unhashable type: 'list'\n"
     ]
    }
   ],
   "source": [
    "print (\"hash of int(42) is\", hash(42))\n",
    "print (\"hash of float(42.001) is\", hash(42.001))\n",
    "print (\"hash of str('42') is\", hash('42'))\n",
    "try:\n",
    "    print (\"hash of list(42) is\", hash([42]))\n",
    "except TypeError:\n",
    "    print(\"TypeError: unhashable type: 'list'\")\n"
   ]
  },
  {
   "cell_type": "markdown",
   "metadata": {},
   "source": [
    "We see that we can get a hash from int (exact int value), from float, and string (although hash for them is not as obvious as for int), but not for a list. You can see that trying to call **hash()** function on a list returns a \n",
    "**TypeError**. That happens because list doesn't has implemented **\\_\\_hash\\_\\_()** method, which is a direct effect of list mutability. Naturally, you can't get a sustainable hash value from something that could change at any moment! So, when you have some collection of elements in a list and you need to make it hashable (fot example, to use a a key for dict), turn it into tuple: "
   ]
  },
  {
   "cell_type": "code",
   "execution_count": 3,
   "metadata": {},
   "outputs": [
    {
     "name": "stdout",
     "output_type": "stream",
     "text": [
      "hash of tuple(42, '42') is -2316783055048560014\n"
     ]
    }
   ],
   "source": [
    "print (\"hash of tuple(42, '42') is\", hash((42, '42')))"
   ]
  },
  {
   "cell_type": "markdown",
   "metadata": {},
   "source": [
    "Now when we figured out what is mutable and what is hashable, let's clear things abot another related and very confusing term - **\"aliasing\"**. Let's start with example:"
   ]
  },
  {
   "cell_type": "code",
   "execution_count": 4,
   "metadata": {},
   "outputs": [
    {
     "name": "stdout",
     "output_type": "stream",
     "text": [
      "The list we created: [0, 1, 2, 3, 4]\n",
      "The second list we created: [0, 1, 2, 3, 4]\n",
      "The first list after changing it: [0, 1, 2, 10, 4]\n",
      "And the second list: [0, 1, 2, 10, 4]\n"
     ]
    }
   ],
   "source": [
    "a = list(range(5))\n",
    "print (\"The list we created:\", a)\n",
    "\n",
    "b = a\n",
    "print (\"The second list we created:\", b)\n",
    "\n",
    "a[3] = 10\n",
    "print (\"The first list after changing it:\", a)\n",
    "print (\"And the second list:\", b)"
   ]
  },
  {
   "cell_type": "markdown",
   "metadata": {},
   "source": [
    "What did just happen?\n",
    "Apparently, when we create a new variable and assign it a name of another variable, python does not create a new variable. Instead it creates an alias - a new naim that points to the same variable. Literally, both **a** and **b** point to the same list, so when we change the list using the name **a**, accessing it through the name **b** also reveals changes.\n",
    "To avoid such behaviour we need to use a copy constructor, like that:"
   ]
  },
  {
   "cell_type": "code",
   "execution_count": 5,
   "metadata": {},
   "outputs": [
    {
     "name": "stdout",
     "output_type": "stream",
     "text": [
      "The list we created: [0, 1, 2, 3, 4]\n",
      "The second list we created: [0, 1, 2, 3, 4]\n",
      "The first list after changing it: [0, 1, 2, 10, 4]\n",
      "And the second list: [0, 1, 2, 3, 4]\n"
     ]
    }
   ],
   "source": [
    "a = list(range(5))\n",
    "print (\"The list we created:\", a)\n",
    "\n",
    "b = a[:]\n",
    "print (\"The second list we created:\", b)\n",
    "\n",
    "a[3] = 10\n",
    "print (\"The first list after changing it:\", a)\n",
    "print (\"And the second list:\", b)"
   ]
  },
  {
   "cell_type": "markdown",
   "metadata": {},
   "source": [
    "Almost all list methods in python does not return a new list, but modify (mutate) it. For that reason, if you have several aliases, all of them see changes after list mutation."
   ]
  },
  {
   "cell_type": "code",
   "execution_count": 6,
   "metadata": {},
   "outputs": [
    {
     "name": "stdout",
     "output_type": "stream",
     "text": [
      "The list we created: [0, 1, 2, 3, 4]\n",
      "The second list we created: [0, 1, 2, 3, 4]\n",
      "The first list after mutation: [0, 1, 2, 3, 4, 11, 12, 13]\n",
      "The second list after mutation: [0, 1, 2, 3, 4, 11, 12, 13]\n"
     ]
    }
   ],
   "source": [
    "a = list(range(5))\n",
    "print (\"The list we created:\", a)\n",
    "\n",
    "b = a\n",
    "print (\"The second list we created:\", b)\n",
    "\n",
    "b.append(11)\n",
    "a.extend([12, 13])\n",
    "print (\"The first list after mutation:\", a)\n",
    "print (\"The second list after mutation:\", b)"
   ]
  },
  {
   "cell_type": "raw",
   "metadata": {},
   "source": [
    "However, there are several operation that returns a new list. In addition to list indexing that we saw before, plus operator **+** also returns a new list"
   ]
  },
  {
   "cell_type": "code",
   "execution_count": 7,
   "metadata": {},
   "outputs": [
    {
     "name": "stdout",
     "output_type": "stream",
     "text": [
      "The list we created: [0, 1, 2, 3, 4]\n",
      "The second list we created: [0, 1, 2, 3, 4, 11, 12]\n",
      "The first list after mutation: [0, 1, 2, 3, 4, 22, 23]\n",
      "The second list after mutation: [0, 1, 2, 3, 4, 11, 12, 21]\n"
     ]
    }
   ],
   "source": [
    "a = list(range(5))\n",
    "b = a + [11, 12]\n",
    "\n",
    "print (\"The list we created:\", a)\n",
    "print (\"The second list we created:\", b)\n",
    "\n",
    "b.append(21)\n",
    "a.extend([22, 23])\n",
    "print (\"The first list after mutation:\", a)\n",
    "print (\"The second list after mutation:\", b)"
   ]
  }
 ],
 "metadata": {
  "kernelspec": {
   "display_name": "Python 3",
   "language": "python",
   "name": "python3"
  },
  "language_info": {
   "codemirror_mode": {
    "name": "ipython",
    "version": 3
   },
   "file_extension": ".py",
   "mimetype": "text/x-python",
   "name": "python",
   "nbconvert_exporter": "python",
   "pygments_lexer": "ipython3",
   "version": "3.6.1"
  }
 },
 "nbformat": 4,
 "nbformat_minor": 2
}
