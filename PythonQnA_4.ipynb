{
 "cells": [
  {
   "cell_type": "markdown",
   "metadata": {},
   "source": [
    "## 4. Mutant lists and other X-Men (or X-People, as you prefer)"
   ]
  },
  {
   "cell_type": "markdown",
   "metadata": {},
   "source": [
    "Lists are simultaneously among the most useful and most confusing data structures in Python. Why? Because of _mutability_."
   ]
  },
  {
   "cell_type": "markdown",
   "metadata": {},
   "source": [
    "**Mutating.** So what is that and why can't we use lists as keys in dictionaries? Let's see by creating some lists and \"mutating\" them. Though do be careful: mutations may be hazardous to your (program's) health!"
   ]
  },
  {
   "cell_type": "code",
   "execution_count": null,
   "metadata": {
    "collapsed": false
   },
   "outputs": [],
   "source": [
    "a = list(range(5))\n",
    "print (\"The list we created:\", a, \"of length\", len(a))\n",
    "\n",
    "b = list(range(6,10))\n",
    "print (\"The second list we created:\", b, \"of length\", len(b))\n",
    "\n",
    "a[1:3] = b # Line 7\n",
    "print (\"The first list after we changed a couple of elements is\", a, \"with length\", len(a))"
   ]
  },
  {
   "cell_type": "markdown",
   "metadata": {},
   "source": [
    "Interesting... We wanted to change two elements (line 7), but added four instead! Rather, we mutated list **`a`** with list **`b`**. \"Mutability\" means, simply, that we can change the structure of the object.\n",
    "\n",
    "It's easy to change, or mutate, a list. Virtually any action on the list changes its structure, length, the order of its elements, or something else that is likely important. After mutation, it's the same list with the same variable name, but different content."
   ]
  },
  {
   "cell_type": "markdown",
   "metadata": {},
   "source": [
    "**Hashing.** Besides being mutable, objects may or may not be _hashable_.\n",
    "\n",
    "As you should know by know, Python provides built-in collections, like **`dict`** and **`set`**, which provide \"high-speed\" access to their elements. The way they do that is through the **`__hash__()`** method. A _hash function_ is one that takes an object as input and returns an (arbitrary) number. You can read more about hash functions on [Wikipedia](https://en.wikipedia.org/wiki/Hash_function). If an object has a **`__hash__()`** method then it is hashable. We can check how it works trying to call **`hash()`** function on different data types:"
   ]
  },
  {
   "cell_type": "code",
   "execution_count": null,
   "metadata": {
    "collapsed": false
   },
   "outputs": [],
   "source": [
    "print (\"hash of int(42) is\", hash(42))\n",
    "print (\"hash of float(42.001) is\", hash(42.001))\n",
    "print (\"hash of str('42') is\", hash('42'))\n",
    "try:\n",
    "    print (\"hash of list(42) is\", hash([42]))\n",
    "except TypeError:\n",
    "    print(\"TypeError: unhashable type: 'list'\")"
   ]
  },
  {
   "cell_type": "markdown",
   "metadata": {},
   "source": [
    "We see that we can get a hash from int (exact int value), from float, and string (although hash for them is not as obvious as for int), but not for a list. You can see that trying to call **`hash()`** function on a list returns a \n",
    "**`TypeError`**. That happens because list doesn't has implemented **`__hash__()`** method, which is a consequence of list mutability. Why? Because if a list can mutate, there isn't a way to create a unique mapping of a given list to a consistent value, because the list could change at any time. So, when you have some collection of elements in a list and you need to make it hashable (for example, to use a key for `dict`), turn it into tuple:"
   ]
  },
  {
   "cell_type": "code",
   "execution_count": null,
   "metadata": {
    "collapsed": false
   },
   "outputs": [],
   "source": [
    "print (\"hash of tuple(42, '42') is\", hash((42, '42')))"
   ]
  },
  {
   "cell_type": "markdown",
   "metadata": {},
   "source": [
    "**Aliasing.** Another important concept is _aliasing_. Let's start with example:"
   ]
  },
  {
   "cell_type": "code",
   "execution_count": null,
   "metadata": {
    "collapsed": false
   },
   "outputs": [],
   "source": [
    "a = list(range(5))\n",
    "print (\"The list we created:\", a)\n",
    "\n",
    "b = a\n",
    "print (\"The second list we created:\", b)\n",
    "\n",
    "a[3] = 10\n",
    "print (\"The first list after changing it:\", a)\n",
    "print (\"And the second list:\", b)"
   ]
  },
  {
   "cell_type": "markdown",
   "metadata": {},
   "source": [
    "What happened?\n",
    "\n",
    "Apparently, when we create a new variable and assign it the name of another variable, Python does not create a new variable. Instead it creates an _alias_, which is a new name that points to the same object. Literally, both **`a`** and **`b`** point to the same list, so when we change the list using the name **`a`**, accessing it through the name **`b`** also reflects these changes.\n",
    "\n",
    "To avoid such behavior we need to make a copy using, for instance, a _copy constructor_, like so:"
   ]
  },
  {
   "cell_type": "code",
   "execution_count": null,
   "metadata": {
    "collapsed": false
   },
   "outputs": [],
   "source": [
    "a = list(range(5))\n",
    "print (\"The list we created:\", a)\n",
    "\n",
    "b = a[:]\n",
    "print (\"The second list we created:\", b)\n",
    "\n",
    "a[3] = 10\n",
    "print (\"The first list after changing it:\", a)\n",
    "print (\"And the second list:\", b)"
   ]
  },
  {
   "cell_type": "markdown",
   "metadata": {},
   "source": [
    "Almost all list methods in Python do not return a new list, but modify (or mutate) it. For that reason, if you have several aliases, all of them reflect the changes after list mutation."
   ]
  },
  {
   "cell_type": "code",
   "execution_count": null,
   "metadata": {
    "collapsed": false
   },
   "outputs": [],
   "source": [
    "a = list(range(5))\n",
    "print (\"The list we created:\", a)\n",
    "\n",
    "b = a\n",
    "print (\"The second list we created:\", b)\n",
    "\n",
    "b.append(11)\n",
    "a.extend([12, 13])\n",
    "print (\"The first list after mutation:\", a)\n",
    "print (\"The second list after mutation:\", b)"
   ]
  },
  {
   "cell_type": "raw",
   "metadata": {},
   "source": [
    "However, there are several operations that return a new list. In addition to the list indexing that we saw before, the plus operator **`+`** also returns a new list:"
   ]
  },
  {
   "cell_type": "code",
   "execution_count": null,
   "metadata": {
    "collapsed": false
   },
   "outputs": [],
   "source": [
    "a = list(range(5))\n",
    "b = a + [11, 12]\n",
    "\n",
    "print (\"The list we created:\", a)\n",
    "print (\"The second list we created:\", b)\n",
    "\n",
    "b.append(21)\n",
    "a.extend([22, 23])\n",
    "print (\"The first list after mutation:\", a)\n",
    "print (\"The second list after mutation:\", b)"
   ]
  },
  {
   "cell_type": "markdown",
   "metadata": {},
   "source": [
    "**Exercise.** Aliasing also happens at function call boundaries. Try to predict what the following code will do before you run it."
   ]
  },
  {
   "cell_type": "code",
   "execution_count": null,
   "metadata": {
    "collapsed": false
   },
   "outputs": [],
   "source": [
    "def rem_sublist(L, i, j):\n",
    "    L[i:j] = []\n",
    "    \n",
    "a = list(range(10))\n",
    "print(a)\n",
    "rem_sublist(a, 2, 5)\n",
    "print(a)"
   ]
  },
  {
   "cell_type": "code",
   "execution_count": null,
   "metadata": {
    "collapsed": true
   },
   "outputs": [],
   "source": []
  }
 ],
 "metadata": {
  "kernelspec": {
   "display_name": "Python 3",
   "language": "python",
   "name": "python3"
  },
  "language_info": {
   "codemirror_mode": {
    "name": "ipython",
    "version": 3
   },
   "file_extension": ".py",
   "mimetype": "text/x-python",
   "name": "python",
   "nbconvert_exporter": "python",
   "pygments_lexer": "ipython3",
   "version": "3.5.3"
  }
 },
 "nbformat": 4,
 "nbformat_minor": 2
}
