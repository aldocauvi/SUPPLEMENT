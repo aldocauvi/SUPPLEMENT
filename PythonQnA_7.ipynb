{
 "cells": [
  {
   "cell_type": "markdown",
   "metadata": {},
   "source": [
    "## 7. Set Yourself for Success"
   ]
  },
  {
   "cell_type": "markdown",
   "metadata": {},
   "source": [
    "Set is an unordered collection. This means sets do not record element position or order, so you can not do indexing, slicing, or other sequence-like behavior on set as you do on list. But sets are super handy if you have several collections, like lists or tuples, and need to create a new collection that does not have any repeating elements, or that is union of two collection, or a super**set** (you see, **set** here is not a coincedence!).\n",
    "Thing that usually gets unnoticed by a python newbie is that in addition to tons of methods that sets support they also use operator overloading. That means that common operators like '**&**', '**|**', '**-**', and others are rewritten to maintain operations specific for sets (and those that make sense for guys who know how sets work). Here are that operations:\n",
    "* **<=** / **<** - is subset\n",
    "* **>=** / **>** - is superset\n",
    "* **|** - union\n",
    "* **&** - intersection\n",
    "* **-** - difference\n",
    "* **^** - symmetric difference\n",
    "\n",
    "As usual, you can read more about that in the [docs](https://docs.python.org/3/library/stdtypes.html#set). Below are some examples of several set operations:"
   ]
  },
  {
   "cell_type": "code",
   "execution_count": 1,
   "metadata": {},
   "outputs": [
    {
     "name": "stdout",
     "output_type": "stream",
     "text": [
      "Set a is {1, 2, 3}\n",
      "Set b is {2, 3, 4}\n",
      "Set intersection is {2, 3}\n",
      "Set union is {1, 2, 3, 4}\n",
      "Set symmetric difference is {1, 4}\n",
      "Set difference 'a - b' is {1}\n",
      "Set difference 'b - a' is {4}\n"
     ]
    }
   ],
   "source": [
    "a = set ([1, 2, 3])\n",
    "b = set ([2, 3, 4])\n",
    "\n",
    "print (\"Set a is\", a)\n",
    "print (\"Set b is\", b)\n",
    "\n",
    "print (\"Set intersection is\", a & b)\n",
    "print (\"Set union is\", a | b)\n",
    "print (\"Set symmetric difference is\", a ^ b)\n",
    "print (\"Set difference 'a - b' is\", a - b)\n",
    "print (\"Set difference 'b - a' is\", b - a)\n"
   ]
  },
  {
   "cell_type": "markdown",
   "metadata": {},
   "source": [
    "Beside the \"normal\" set, we have another helpful buddy in the set family: **frozenset**. The frozenset shares same operations with normal set. And operations between a normal set and frozenset will return a normal set."
   ]
  },
  {
   "cell_type": "code",
   "execution_count": 2,
   "metadata": {},
   "outputs": [
    {
     "name": "stdout",
     "output_type": "stream",
     "text": [
      "Set c is frozenset({3, 4, 5})\n",
      "Set intersection is {3}\n",
      "Set union is {1, 2, 3, 4, 5}\n",
      "Set symmetric difference is {1, 2, 4, 5}\n",
      "Set difference 'c - d' is {1, 2}\n",
      "Set difference 'c - d' is {1, 2}\n"
     ]
    }
   ],
   "source": [
    "c = frozenset([3, 4, 5])\n",
    "\n",
    "print (\"Set c is\", c)\n",
    "\n",
    "print (\"Set intersection is\", a & c)\n",
    "print (\"Set union is\", a | c)\n",
    "print (\"Set symmetric difference is\", a ^ c)\n",
    "print (\"Set difference 'c - d' is\", a - c)\n",
    "print (\"Set difference 'c - d' is\", a - c)"
   ]
  },
  {
   "cell_type": "markdown",
   "metadata": {},
   "source": [
    "The difference between these two types set is that frozenset is immutable while the \"normal\" one is mutable. This property gives us the choice that use a frozenset as the key of a dictionary as shown in the following example."
   ]
  },
  {
   "cell_type": "code",
   "execution_count": 3,
   "metadata": {},
   "outputs": [
    {
     "name": "stdout",
     "output_type": "stream",
     "text": [
      "unhashable type: 'set'\n"
     ]
    }
   ],
   "source": [
    "try:\n",
    "    dict1 = {set([1, 3]): 'set as key'}\n",
    "    print(dict1)\n",
    "except Exception as e: \n",
    "    print(e)"
   ]
  },
  {
   "cell_type": "code",
   "execution_count": 4,
   "metadata": {},
   "outputs": [
    {
     "name": "stdout",
     "output_type": "stream",
     "text": [
      "{frozenset({1, 3}): 'frozenset as key'}\n"
     ]
    }
   ],
   "source": [
    "try:\n",
    "    dict2 = {frozenset([1, 3]): 'frozenset as key'}\n",
    "    print(dict2)\n",
    "except Exception as e: \n",
    "    print(e)"
   ]
  },
  {
   "cell_type": "code",
   "execution_count": null,
   "metadata": {
    "collapsed": true
   },
   "outputs": [],
   "source": []
  }
 ],
 "metadata": {
  "kernelspec": {
   "display_name": "Python 3",
   "language": "python",
   "name": "python3"
  },
  "language_info": {
   "codemirror_mode": {
    "name": "ipython",
    "version": 3
   },
   "file_extension": ".py",
   "mimetype": "text/x-python",
   "name": "python",
   "nbconvert_exporter": "python",
   "pygments_lexer": "ipython3",
   "version": "3.6.1"
  }
 },
 "nbformat": 4,
 "nbformat_minor": 2
}
