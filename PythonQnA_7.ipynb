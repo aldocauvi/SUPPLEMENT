{
 "cells": [
  {
   "cell_type": "markdown",
   "metadata": {},
   "source": [
    "## 7. Set Yourself for Success"
   ]
  },
  {
   "cell_type": "markdown",
   "metadata": {},
   "source": [
    "Set is an unordered collection. This means that sets do not record element position or order, so you cannot do indexing, slicing, or other sequence-like behavior on sets as you would do on lists. Sets are super handy if you have several collections, like lists or tuples, and need to create a new collection that does not have any repeating elements, or that is union of two collection, or a super**set** (you see, **set** here is not a coincedence!).\n",
    "\n",
    "A Python newbie often fails to notice that sets use operator overloading in addition to tons of methods that sets support. This means that common operators like '**&**', '**|**', '**-**', and others are rewritten to maintain operations specific for sets (and those that make sense for guys who know how sets work). Here are some of those operations:\n",
    "* **<=** / **<** - is subset\n",
    "* **>=** / **>** - is superset\n",
    "* **|** - union\n",
    "* **&** - intersection\n",
    "* **-** - difference\n",
    "* **^** - symmetric difference\n",
    "\n",
    "As usual, you can read more about that in the [docs](https://docs.python.org/3/library/stdtypes.html#set). Below are some examples of several set operations:"
   ]
  },
  {
   "cell_type": "code",
   "execution_count": null,
   "metadata": {
    "collapsed": true
   },
   "outputs": [],
   "source": [
    "a = set ([1, 2, 3])\n",
    "b = set ([2, 3, 4])\n",
    "\n",
    "print (\"Set a is\", a)\n",
    "print (\"Set b is\", b)\n",
    "\n",
    "print (\"Set intersection is\", a & b)\n",
    "print (\"Set union is\", a | b)\n",
    "print (\"Set symmetric difference is\", a ^ b)\n",
    "print (\"Set difference 'a - b' is\", a - b)\n",
    "print (\"Set difference 'b - a' is\", b - a)\n"
   ]
  },
  {
   "cell_type": "markdown",
   "metadata": {},
   "source": [
    "Beside the \"normal\" set, we have another helpful buddy in the set family: **frozenset**. The frozenset shares same operations with normal set, except for the fact that they return frozensets."
   ]
  },
  {
   "cell_type": "code",
   "execution_count": null,
   "metadata": {
    "collapsed": true
   },
   "outputs": [],
   "source": [
    "c = frozenset ([1, 2, 3])\n",
    "d = frozenset ([2, 3, 4])\n",
    "\n",
    "print (\"Set c is\", c)\n",
    "print (\"Set d is\", d)\n",
    "\n",
    "print (\"Set intersection is\", c & d)\n",
    "print (\"Set union is\", c | d)\n",
    "print (\"Set symmetric difference is\", c ^ d)\n",
    "print (\"Set difference 'c - d' is\", c - d)\n",
    "print (\"Set difference 'd - c' is\", d - c)"
   ]
  },
  {
   "cell_type": "markdown",
   "metadata": {},
   "source": [
    "The difference between these two types set is that frozenset is immutable while the \"normal\" one is mutable. This property gives us the choice to use a frozenset as a key for a dictionary, or to use it when we want to have a set of sets. Below you can see an example of dictionary with set as key."
   ]
  },
  {
   "cell_type": "code",
   "execution_count": null,
   "metadata": {
    "collapsed": true
   },
   "outputs": [],
   "source": [
    "try:\n",
    "    dict1 = {set([1, 3]): 'set as key'}\n",
    "    print(dict1)\n",
    "except Exception as e: \n",
    "    print(e)"
   ]
  },
  {
   "cell_type": "code",
   "execution_count": null,
   "metadata": {
    "collapsed": true
   },
   "outputs": [],
   "source": [
    "try:\n",
    "    dict2 = {frozenset([1, 3]): 'frozenset as key'}\n",
    "    print(dict2)\n",
    "except Exception as e: \n",
    "    print(e)"
   ]
  },
  {
   "cell_type": "markdown",
   "metadata": {
    "collapsed": true
   },
   "source": [
    "**Exercise.** One curious thing about sets and frozensets is that you can mix them together in binary operations. What could be the result of such operations? Well, it's not very obvious. Let's try to think what operations below should return and think why they do that. If you're interested in diving deeper inside Python, you can look [here](https://docs.python.org/3/reference/datamodel.html#emulating-numeric-types) to get some insights."
   ]
  },
  {
   "cell_type": "code",
   "execution_count": null,
   "metadata": {
    "collapsed": true
   },
   "outputs": [],
   "source": [
    "print (\"Set intersection between {} and {} is {}\".format(a, d, a & d))\n",
    "print (\"Set intersection between {} and {} is {}\".format(c, b, c & b))\n",
    "\n",
    "print (\"Set difference between {} and {} is {}\".format(a, d, a - d))\n",
    "print (\"Set difference between {} and {} is {}\".format(d, a, d - a))"
   ]
  }
 ],
 "metadata": {
  "kernelspec": {
   "display_name": "Python 3",
   "language": "python",
   "name": "python3"
  },
  "language_info": {
   "codemirror_mode": {
    "name": "ipython",
    "version": 3
   },
   "file_extension": ".py",
   "mimetype": "text/x-python",
   "name": "python",
   "nbconvert_exporter": "python",
   "pygments_lexer": "ipython3",
   "version": "3.6.1"
  }
 },
 "nbformat": 4,
 "nbformat_minor": 2
}
