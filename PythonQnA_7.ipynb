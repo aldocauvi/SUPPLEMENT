{
 "cells": [
  {
   "cell_type": "markdown",
   "metadata": {},
   "source": [
    "## 7. Set Yourself for Success"
   ]
  },
  {
   "cell_type": "markdown",
   "metadata": {},
   "source": [
    "A Python `set` is an _unordered_ collection: the elements of a set do not have a position or order, so you cannot do indexing, slicing, or other sequence-like operations on sets as you would do on, for instance, lists. \n",
    "\n",
    "Sets in Python mimic mathematical sets: the elements do not repeat. They are especially handy if you have other collections, like lists or tuples, and need to create a new collection of unique values, or the union of two collections, or a a super**set** (you see, **set** here is not a coincidence!).\n",
    "\n",
    "There are many methods (functions) available for a set, but there is also a rich collection of _overloaded operators_, too. That includes '**`&`**', '**`|`**', '**`-`**', and others, which correspond to their \"natural\" mathematical analogues. Here are some of the most useful of those overloaded operations:\n",
    "* **`A <= B`** or **`A < B`**: Check if `A` is a (proper) subset of `B`\n",
    "* **`A >= B`** / **`A > B`**: Check if `A` is a (proper) superset of `B`\n",
    "* **`A | B`**: Compute the union of two sets\n",
    "* **`A & B`**: Intersection\n",
    "* **`A - B`**: Difference\n",
    "* **`A ^ B`**: Symmetric difference\n",
    "\n",
    "As usual, you can read more about that in the [docs](https://docs.python.org/3/library/stdtypes.html#set). Below are some examples of several set operations:"
   ]
  },
  {
   "cell_type": "code",
   "execution_count": null,
   "metadata": {
    "collapsed": false
   },
   "outputs": [],
   "source": [
    "a = set ([1, 2, 3])\n",
    "b = set ([2, 3, 4])\n",
    "\n",
    "print (\"Set a is\", a)\n",
    "print (\"Set b is\", b)\n",
    "\n",
    "print (\"Set intersection is\", a & b)\n",
    "print (\"Set union is\", a | b)\n",
    "print (\"Set symmetric difference is\", a ^ b)\n",
    "print (\"Set difference 'a - b' is\", a - b)\n",
    "print (\"Set difference 'b - a' is\", b - a)"
   ]
  },
  {
   "cell_type": "markdown",
   "metadata": {},
   "source": [
    "**Read-only sets: `frozenset`**. Beside the \"normal\" set, we have another helpful friend in the set family, the **frozenset**. A frozenset shares same operations with normal set, except for that fact that they return frozensets. (Huh?)"
   ]
  },
  {
   "cell_type": "code",
   "execution_count": null,
   "metadata": {
    "collapsed": true
   },
   "outputs": [],
   "source": [
    "c = frozenset ([1, 2, 3])\n",
    "d = frozenset ([2, 3, 4])\n",
    "\n",
    "print (\"Set c is\", c)\n",
    "print (\"Set d is\", d)\n",
    "\n",
    "print (\"Set intersection is\", c & d)\n",
    "print (\"Set union is\", c | d)\n",
    "print (\"Set symmetric difference is\", c ^ d)\n",
    "print (\"Set difference 'c - d' is\", c - d)\n",
    "print (\"Set difference 'd - c' is\", d - c)"
   ]
  },
  {
   "cell_type": "markdown",
   "metadata": {},
   "source": [
    "The difference between these two types set is that frozenset is _immutable_ while the normal set is mutable. This property gives us the choice to use a frozenset as a key for a dictionary, or to use it when we want to maintain a set of sets. Below you can see an example of a dictionary where sets serve as the key."
   ]
  },
  {
   "cell_type": "code",
   "execution_count": null,
   "metadata": {
    "collapsed": true
   },
   "outputs": [],
   "source": [
    "try:\n",
    "    dict1 = {set([1, 3]): 'set as key'}\n",
    "    print(dict1)\n",
    "except Exception as e: \n",
    "    print(e)"
   ]
  },
  {
   "cell_type": "code",
   "execution_count": null,
   "metadata": {
    "collapsed": true
   },
   "outputs": [],
   "source": [
    "try:\n",
    "    dict2 = {frozenset([1, 3]): 'frozenset as key'}\n",
    "    print(dict2)\n",
    "except Exception as e: \n",
    "    print(e)"
   ]
  },
  {
   "cell_type": "markdown",
   "metadata": {
    "collapsed": true
   },
   "source": [
    "**Exercise.** One curious thing about sets and frozensets is that you can mix them together in binary operations. What could be the result of such operations? Well, it's not very obvious. Try to think about what you think the operations below should return and what they actually return. If you're interested in diving deeper inside Python, you can look [here](https://docs.python.org/3/reference/datamodel.html#emulating-numeric-types) to get some insights."
   ]
  },
  {
   "cell_type": "code",
   "execution_count": null,
   "metadata": {
    "collapsed": true
   },
   "outputs": [],
   "source": [
    "print (\"Set intersection between {} and {} is {}\".format(a, d, a & d))\n",
    "print (\"Set intersection between {} and {} is {}\".format(c, b, c & b))\n",
    "\n",
    "print (\"Set difference between {} and {} is {}\".format(a, d, a - d))\n",
    "print (\"Set difference between {} and {} is {}\".format(d, a, d - a))"
   ]
  }
 ],
 "metadata": {
  "kernelspec": {
   "display_name": "Python 3",
   "language": "python",
   "name": "python3"
  },
  "language_info": {
   "codemirror_mode": {
    "name": "ipython",
    "version": 3
   },
   "file_extension": ".py",
   "mimetype": "text/x-python",
   "name": "python",
   "nbconvert_exporter": "python",
   "pygments_lexer": "ipython3",
   "version": "3.5.3"
  }
 },
 "nbformat": 4,
 "nbformat_minor": 2
}
