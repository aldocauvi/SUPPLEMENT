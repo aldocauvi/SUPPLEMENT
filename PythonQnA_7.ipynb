{
 "cells": [
  {
   "cell_type": "markdown",
   "metadata": {},
   "source": [
    "## 7. Set Yourself for Success"
   ]
  },
  {
   "cell_type": "markdown",
   "metadata": {},
   "source": [
    "Sets are super handy if you have several collections, like lists or tuples, and need to create a new collection that does not have any repeating elements, or that is union of two collection, or a super**set** (you see, **set** here is not a coincedence!).\n",
    "Thing that usually get unnoticed by a python newbie is that in addition to tons of methods that sets support they also use operator overloading. That means that common operators like '**&**', '**|**', '**-**', and others are rewritten to maintain operations specific for sets (and those that make sense for guys who know how sets work). Here are that operations:\n",
    "* **<=** / **<** - is subset\n",
    "* **>=** / **>** - is superset\n",
    "* **|** - union\n",
    "* **&** - intersection\n",
    "* **-** - difference\n",
    "* **^** - symmetric difference\n",
    "\n",
    "As usual, you can read more about that in the [docs](https://docs.python.org/3/library/stdtypes.html#set). Below are some examples of several set operations:"
   ]
  },
  {
   "cell_type": "code",
   "execution_count": 1,
   "metadata": {},
   "outputs": [
    {
     "name": "stdout",
     "output_type": "stream",
     "text": [
      "Set a is {1, 2, 3}\n",
      "Set b is {2, 3, 4}\n",
      "Set intersection is {2, 3}\n",
      "Set union is {1, 2, 3, 4}\n",
      "Set symmetric difference is {1, 4}\n",
      "Set difference 'a - b' is {1}\n",
      "Set difference 'b - a' is {4}\n"
     ]
    }
   ],
   "source": [
    "a = set ([1, 2, 3])\n",
    "b = set ([2, 3, 4])\n",
    "\n",
    "print (\"Set a is\", a)\n",
    "print (\"Set b is\", b)\n",
    "\n",
    "print (\"Set intersection is\", a & b)\n",
    "print (\"Set union is\", a | b)\n",
    "print (\"Set symmetric difference is\", a ^ b)\n",
    "print (\"Set difference 'a - b' is\", a - b)\n",
    "print (\"Set difference 'b - a' is\", b - a)\n"
   ]
  }
 ],
 "metadata": {
  "kernelspec": {
   "display_name": "Python 3",
   "language": "python",
   "name": "python3"
  },
  "language_info": {
   "codemirror_mode": {
    "name": "ipython",
    "version": 3
   },
   "file_extension": ".py",
   "mimetype": "text/x-python",
   "name": "python",
   "nbconvert_exporter": "python",
   "pygments_lexer": "ipython3",
   "version": "3.6.1"
  }
 },
 "nbformat": 4,
 "nbformat_minor": 2
}
