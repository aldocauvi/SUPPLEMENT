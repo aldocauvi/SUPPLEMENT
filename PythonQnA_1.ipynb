{
 "cells": [
  {
   "cell_type": "markdown",
   "metadata": {},
   "source": [
    "## 1. What You See is What You Get"
   ]
  },
  {
   "cell_type": "markdown",
   "metadata": {},
   "source": [
    "A lot of confusion in the first Labs was coused by the differense between how we, humans, understand the information, and how computers, or rather python, stores it and, more importantly, how python prints it out. Let's look at a simple number."
   ]
  },
  {
   "cell_type": "code",
   "execution_count": null,
   "metadata": {},
   "outputs": [],
   "source": [
    "print (42)"
   ]
  },
  {
   "cell_type": "markdown",
   "metadata": {},
   "source": [
    "We can store it in a variable and print it out. It doesn't sound confusing at all!"
   ]
  },
  {
   "cell_type": "code",
   "execution_count": null,
   "metadata": {},
   "outputs": [],
   "source": [
    "x = 42\n",
    "print (x)"
   ]
  },
  {
   "cell_type": "markdown",
   "metadata": {},
   "source": [
    "Here a variable x stores number **42** as integer number. However, we can store a number as a different type - as float, string, part of a list or a typle. Depending on type of the variable, python will print it **slightly** differently..."
   ]
  },
  {
   "cell_type": "code",
   "execution_count": null,
   "metadata": {
    "scrolled": true
   },
   "outputs": [],
   "source": [
    "x_float = float(42)\n",
    "x_scientific = 42e0\n",
    "x_str = '42'\n",
    "\n",
    "print ('42 as a float', x_float)\n",
    "print ('42 as a float in scientific notation', x_scientific)\n",
    "print ('42 as a string', x_str)"
   ]
  },
  {
   "cell_type": "markdown",
   "metadata": {},
   "source": [
    "So far looks pretty casual. Float adds floating point in the end. Scientific notation is always a float (serious scientists don't work with integers!), and 42 as string looks exactly like we expected.\n",
    "Until we make it a part of some collection, for example a list..."
   ]
  },
  {
   "cell_type": "code",
   "execution_count": null,
   "metadata": {},
   "outputs": [],
   "source": [
    "x_list = [x, x_str, x_float, x_scientific]\n",
    "print (\"All 42 in a list:\", x_list)"
   ]
  },
  {
   "cell_type": "markdown",
   "metadata": {},
   "source": [
    "Here is the thing: python won't show you quotes when you print a string, but if you print a string in another object, it encloses string in single quotes. So each time you see this single quotes, be sure, here's the string, not a number (at least for python)!\n",
    "Let's look how: "
   ]
  },
  {
   "cell_type": "code",
   "execution_count": null,
   "metadata": {},
   "outputs": [],
   "source": [
    "x_tuple = tuple(x_list)\n",
    "x_set = set(x_list)\n",
    "x_dict = {x_str : x, x_tuple : x_list}\n",
    "\n",
    "print (\"All 42 in a list:\", x_list)\n",
    "print (\"All 42 in a tuple:\", x_tuple)\n",
    "print (\"All 42 in a set:\", x_set)\n",
    "print (\"A dict of 42 in different flavors\", x_dict)"
   ]
  },
  {
   "cell_type": "markdown",
   "metadata": {},
   "source": [
    "Wow, now you should be **extreeeeeemely** watchful! \n",
    "* Look how by shape of brackets you can differ a tuple from a list: lists use **[brackets]**, whereas tuples us **(parentheses)**\n",
    "* Look how both sets and dicts use **{braces}**. That might create some confusion. But each element of set is just an object, whereas in dict you have **key : value** pair separated by **: (colon) **\n",
    "* Although 42 as integer and 42.0 as floating point are objects of a different kind, for sets they are equal, because they have the same value, exact 42. '42' as a string on the other hand is anobject of a defferent nature, it's not a number. That's why set has only two objects: 42 as integer, and '42' as a string"
   ]
  },
  {
   "cell_type": "markdown",
   "metadata": {},
   "source": [
    "If confused, you can always use **type()** function to figure out the type of the object you have:"
   ]
  },
  {
   "cell_type": "code",
   "execution_count": null,
   "metadata": {},
   "outputs": [],
   "source": [
    "print ('42 as integer', x, \"variable type is\", type(x))\n",
    "print ('42 as a float', x_float, \"variable type is\", type(x_float))\n",
    "print ('42 as a float in scientific notation', x_scientific, \"variable type is\", type(x_scientific))\n",
    "print ('42 as a string', x_str, \"variable type is\", type(x_str))"
   ]
  },
  {
   "cell_type": "markdown",
   "metadata": {},
   "source": [
    "Using **type()** function might be extremely useful during debugging stage. However, quite often a simple print and a little bit of attention to what's printed is enough to figure out what's going on."
   ]
  },
  {
   "cell_type": "markdown",
   "metadata": {},
   "source": [
    "Some objects have different print convention. For example, let's consider a **frozenset**, a built-in immutable implementation of python set:"
   ]
  },
  {
   "cell_type": "code",
   "execution_count": null,
   "metadata": {},
   "outputs": [],
   "source": [
    "x_frozenset = frozenset(x_list)\n",
    "print (\"Here's a set of 42:\\n\", x_set)\n",
    "print (\"Here's a frozenset of 42:\\n\", x_frozenset)"
   ]
  },
  {
   "cell_type": "markdown",
   "metadata": {},
   "source": [
    "As you see, when we print set and frozenset, they look very different. Frozenset, as lots of other objects in python, adds its object name when you print it. That makes really hard to confuse set and frozenset!"
   ]
  },
  {
   "cell_type": "markdown",
   "metadata": {},
   "source": [
    "If you want to do something similar, you can do it rather easy in python. You just need to create your own class and add a special __str__ method that determins a string representation for the object."
   ]
  },
  {
   "cell_type": "code",
   "execution_count": null,
   "metadata": {},
   "outputs": [],
   "source": [
    "class my_42:\n",
    "    def __init__(self):\n",
    "        self.n = 42\n",
    "    def __str__(self):\n",
    "        return 'Member of class my_42(' + str(self.n) + ')'\n",
    "print ('Just 42:',42)\n",
    "print ('New class:', my_42())"
   ]
  },
  {
   "cell_type": "markdown",
   "metadata": {},
   "source": [
    "**Exercise.** Now let's use our knowledge on practise and play with a function that takes a list and returns exactly the same one if every element of the list is a string. If no, it returns a new list with all non-string elements converted to string. To not get lost, the function also returns a flag variable showing whether the list is new (**\"True\"**) or not (**\"False\"**). Try to add some prints to envestigate what are types of elements in the list, how they are printed out, and how the whole array looks like before and after type convertion."
   ]
  },
  {
   "cell_type": "code",
   "execution_count": null,
   "metadata": {
    "collapsed": true
   },
   "outputs": [],
   "source": [
    "def list_converter(l):\n",
    "    assert (type(l) == list)\n",
    "    flag = False\n",
    "    for el in l:\n",
    "        # print what's the type of el\n",
    "        if type(el) != str:\n",
    "            flag = True\n",
    "    if flag:\n",
    "        new_list = []\n",
    "        for el in l:\n",
    "            # how would be each element printed out? what's the element type?\n",
    "            new_list.append(str(el))\n",
    "            # print how the new list looks like\n",
    "        return new_list, flag\n",
    "    else:\n",
    "        return l, flag"
   ]
  },
  {
   "cell_type": "code",
   "execution_count": null,
   "metadata": {},
   "outputs": [],
   "source": [
    "# `list_converter_test`: Test cell\n",
    "l = ['4', 8, 15, '16', 23, 42]\n",
    "l_true = ['4', '8', '15', '16', '23', '42']\n",
    "new_l, flag = list_converter(l)\n",
    "\n",
    "print (\"list_converter({}) -> {} [True: {}], new list flag is {}\".format(l, new_l, l_true, flag))\n",
    "assert new_l == l_true\n",
    "assert flag\n",
    "\n",
    "new_l, flag = list_converter(l_true)\n",
    "print (\"list_converter({}) -> {} [True: {}], new list flag is {}\".format(l, new_l, l_true, flag))\n",
    "assert new_l == l_true\n",
    "assert not flag"
   ]
  }
 ],
 "metadata": {
  "kernelspec": {
   "display_name": "Python 3",
   "language": "python",
   "name": "python3"
  },
  "language_info": {
   "codemirror_mode": {
    "name": "ipython",
    "version": 3
   },
   "file_extension": ".py",
   "mimetype": "text/x-python",
   "name": "python",
   "nbconvert_exporter": "python",
   "pygments_lexer": "ipython3",
   "version": "3.6.2"
  }
 },
 "nbformat": 4,
 "nbformat_minor": 2
}
