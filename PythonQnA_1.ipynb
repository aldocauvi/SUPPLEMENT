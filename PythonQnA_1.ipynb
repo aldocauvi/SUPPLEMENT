{
 "cells": [
  {
   "cell_type": "markdown",
   "metadata": {},
   "source": [
    "## 1. What You See is What You Get"
   ]
  },
  {
   "cell_type": "markdown",
   "metadata": {},
   "source": [
    "A lot of confusion in the first notebook was caused by the differences between how we, humans, understand the information, and how Python stores and prints it.\n",
    "\n",
    "For instance, let's start with a simple number."
   ]
  },
  {
   "cell_type": "code",
   "execution_count": 1,
   "metadata": {
    "collapsed": false
   },
   "outputs": [
    {
     "name": "stdout",
     "output_type": "stream",
     "text": [
      "42\n"
     ]
    }
   ],
   "source": [
    "print (42)"
   ]
  },
  {
   "cell_type": "markdown",
   "metadata": {},
   "source": [
    "We can store it in a variable and print it out. It doesn't appear confusing at all!"
   ]
  },
  {
   "cell_type": "code",
   "execution_count": 2,
   "metadata": {
    "collapsed": false
   },
   "outputs": [
    {
     "name": "stdout",
     "output_type": "stream",
     "text": [
      "42\n"
     ]
    }
   ],
   "source": [
    "x = 42\n",
    "print (x)"
   ]
  },
  {
   "cell_type": "markdown",
   "metadata": {},
   "source": [
    "The variable `x` stores the value **42** as an integer. However, we can store a value as a different type, like as a float, string, part of a list or a tuple, among others. Depending on type of the variable, Python will print it **slightly** differently. To wit:"
   ]
  },
  {
   "cell_type": "code",
   "execution_count": 3,
   "metadata": {
    "collapsed": false,
    "scrolled": true
   },
   "outputs": [
    {
     "name": "stdout",
     "output_type": "stream",
     "text": [
      "42 as a float 42.0\n",
      "42 as a float in scientific notation 42.0\n",
      "42 as a string 42\n"
     ]
    }
   ],
   "source": [
    "x_float = float(42)\n",
    "x_scientific = 42e0\n",
    "x_str = '42'\n",
    "\n",
    "print ('42 as a float', x_float)\n",
    "print ('42 as a float in scientific notation', x_scientific)\n",
    "print ('42 as a string', x_str)"
   ]
  },
  {
   "cell_type": "markdown",
   "metadata": {},
   "source": [
    "So far, so good. Float adds a floating point at the end. Scientific notation is always a float, and 42 as a string looks exactly like we expected. Until we make it a part of some collection. For example:"
   ]
  },
  {
   "cell_type": "code",
   "execution_count": 4,
   "metadata": {
    "collapsed": false
   },
   "outputs": [
    {
     "name": "stdout",
     "output_type": "stream",
     "text": [
      "All 42 in a list: [42, '42', 42.0, 42.0]\n"
     ]
    }
   ],
   "source": [
    "x_list = [x, x_str, x_float, x_scientific]\n",
    "print (\"All 42 in a list:\", x_list)"
   ]
  },
  {
   "cell_type": "markdown",
   "metadata": {},
   "source": [
    "Here is the thing: Python doesn't display quotes when you print a string value, but if that value is part of another object, Python encloses it in single quotes. Consider these examples:"
   ]
  },
  {
   "cell_type": "code",
   "execution_count": 5,
   "metadata": {
    "collapsed": false
   },
   "outputs": [
    {
     "name": "stdout",
     "output_type": "stream",
     "text": [
      "All 42 in a list: [42, '42', 42.0, 42.0]\n",
      "All 42 in a tuple: (42, '42', 42.0, 42.0)\n",
      "All 42 in a set: {42, '42'}\n",
      "A dict of 42 in different flavors {'42': 42, (42, '42', 42.0, 42.0): [42, '42', 42.0, 42.0]}\n"
     ]
    }
   ],
   "source": [
    "x_tuple = tuple(x_list)\n",
    "x_set = set(x_list)\n",
    "x_dict = {x_str : x, x_tuple : x_list}\n",
    "\n",
    "print (\"All 42 in a list:\", x_list)\n",
    "print (\"All 42 in a tuple:\", x_tuple)\n",
    "print (\"All 42 in a set:\", x_set)\n",
    "print (\"A dict of 42 in different flavors\", x_dict)"
   ]
  },
  {
   "cell_type": "markdown",
   "metadata": {},
   "source": [
    "You should observe the following.\n",
    "* The shape of brackets differentiates a tuple from a list: lists use **`[`square brackets`]`**, whereas tuples us **(parentheses)**.\n",
    "* Both sets and dictionaries use **`{`curly braces`}`**. That might create some confusion. But each element of set is just an object, whereas in a dictionary you have **key `:` value** pairs, where `:` serves as the delimiter.\n",
    "* Although 42 as an integer and 42.0 in floating point are differet kinds of objects, for sets they are equal, because they have the same value, exactly 42. The value `'42'` as a string on the other hand is an object of a different nature, namely, it's not a number. That's why set has only two objects: 42 as integer, and '42' as a string"
   ]
  },
  {
   "cell_type": "markdown",
   "metadata": {},
   "source": [
    "Some objects have different printing conventions. For example, let's consider a **frozenset**, a built-in immutable implementation of python set:"
   ]
  },
  {
   "cell_type": "code",
   "execution_count": 6,
   "metadata": {
    "collapsed": false
   },
   "outputs": [
    {
     "name": "stdout",
     "output_type": "stream",
     "text": [
      "Here's a set of 42:\n",
      " {42, '42'}\n",
      "Here's a frozenset of 42:\n",
      " frozenset({42, '42'})\n"
     ]
    }
   ],
   "source": [
    "x_frozenset = frozenset(x_list)\n",
    "print (\"Here's a set of 42:\\n\", x_set)\n",
    "print (\"Here's a frozenset of 42:\\n\", x_frozenset)"
   ]
  },
  {
   "cell_type": "markdown",
   "metadata": {},
   "source": [
    "As you see, when we print set and frozenset, they look very different. Frozenset, as lots of other objects in python, adds its object name when you print it. That makes really hard to confuse set and frozenset!"
   ]
  },
  {
   "cell_type": "markdown",
   "metadata": {},
   "source": [
    "If you want to do something similar, you can do it rather easily in python. You just need to create your own class and add a special __str__ method that determins a string representation for the object."
   ]
  },
  {
   "cell_type": "code",
   "execution_count": 7,
   "metadata": {
    "collapsed": false
   },
   "outputs": [
    {
     "name": "stdout",
     "output_type": "stream",
     "text": [
      "Just 42: 42\n",
      "New class: Member of class my_42(42)\n"
     ]
    }
   ],
   "source": [
    "class my_42:\n",
    "    def __init__(self):\n",
    "        self.n = 42\n",
    "    def __str__(self):\n",
    "        return 'Member of class my_42(' + str(self.n) + ')'\n",
    "print ('Just 42:',42)\n",
    "print ('New class:', my_42())"
   ]
  }
 ],
 "metadata": {
  "kernelspec": {
   "display_name": "Python 3",
   "language": "python",
   "name": "python3"
  },
  "language_info": {
   "codemirror_mode": {
    "name": "ipython",
    "version": 3
   },
   "file_extension": ".py",
   "mimetype": "text/x-python",
   "name": "python",
   "nbconvert_exporter": "python",
   "pygments_lexer": "ipython3",
   "version": "3.5.3"
  }
 },
 "nbformat": 4,
 "nbformat_minor": 2
}
