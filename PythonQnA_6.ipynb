{
 "cells": [
  {
   "cell_type": "markdown",
   "metadata": {},
   "source": [
    "## 6. Sorting Things out"
   ]
  },
  {
   "cell_type": "markdown",
   "metadata": {},
   "source": [
    "Another topic that is surprisingly close to mutations is sorting. That relation comes because usually you need to sort a list. Sorting a list is extremely easy in python, as easy as using **list.sort()** method. And as confusing as everything we've discussed so far..."
   ]
  },
  {
   "cell_type": "code",
   "execution_count": 1,
   "metadata": {},
   "outputs": [
    {
     "name": "stdout",
     "output_type": "stream",
     "text": [
      "List before sorting [2, 6, 3, 4, 1, 9]\n",
      "That's what list.sort() returns: None\n",
      "List after sorting [1, 2, 3, 4, 6, 9]\n"
     ]
    }
   ],
   "source": [
    "a = [2, 6, 3, 4, 1, 9]\n",
    "print (\"List before sorting\", a)\n",
    "\n",
    "b = a.sort()\n",
    "print (\"That's what list.sort() returns:\", b)\n",
    "print (\"List after sorting\", a)"
   ]
  },
  {
   "cell_type": "markdown",
   "metadata": {},
   "source": [
    "Two things you may noticed:\n",
    "1. **sort()** method doesn't return anything\n",
    "2. After calling **sort()** method, your list is sorted, and there is no way to return you previous order if you ever need that.\n",
    "\n",
    "That happens because **sort()** method performs sorting as a side effect, and it does not create a new list of sorted objects. As you might know by now, if you have an alias for a, it's get sorted (unlike a copy) after any of them calls **sort()** method. "
   ]
  },
  {
   "cell_type": "code",
   "execution_count": 2,
   "metadata": {},
   "outputs": [
    {
     "name": "stdout",
     "output_type": "stream",
     "text": [
      "List before sorting [2, 6, 3, 4, 1, 9]\n",
      "List alias before sorting [2, 6, 3, 4, 1, 9]\n",
      "List copy before sorting [2, 6, 3, 4, 1, 9]\n",
      "------------------------------------------\n",
      "List after sorting copy [2, 6, 3, 4, 1, 9]\n",
      "List alias after sorting copy [2, 6, 3, 4, 1, 9]\n",
      "List copy after sorting copy [1, 2, 3, 4, 6, 9]\n"
     ]
    }
   ],
   "source": [
    "a = [2, 6, 3, 4, 1, 9]\n",
    "a_copy = a[:]\n",
    "a_alias = a\n",
    "\n",
    "print (\"List before sorting\", a)\n",
    "print (\"List alias before sorting\", a_alias)\n",
    "print (\"List copy before sorting\", a_copy)\n",
    "print (\"------------------------------------------\")\n",
    "\n",
    "a_copy.sort()\n",
    "print (\"List after sorting copy\", a)\n",
    "print (\"List alias after sorting copy\", a_alias)\n",
    "print (\"List copy after sorting copy\", a_copy)"
   ]
  },
  {
   "cell_type": "code",
   "execution_count": 3,
   "metadata": {},
   "outputs": [
    {
     "name": "stdout",
     "output_type": "stream",
     "text": [
      "List after sorting [1, 2, 3, 4, 6, 9]\n",
      "List alias after sorting [1, 2, 3, 4, 6, 9]\n",
      "List copy after sorting [2, 6, 3, 4, 1, 9]\n"
     ]
    }
   ],
   "source": [
    "a = [2, 6, 3, 4, 1, 9]\n",
    "a_copy = a[:]\n",
    "a_alias = a\n",
    "\n",
    "a.sort()\n",
    "print (\"List after sorting\", a)\n",
    "print (\"List alias after sorting\", a_alias)\n",
    "print (\"List copy after sorting\", a_copy)"
   ]
  },
  {
   "cell_type": "code",
   "execution_count": 4,
   "metadata": {},
   "outputs": [
    {
     "name": "stdout",
     "output_type": "stream",
     "text": [
      "List after sorting alias [1, 2, 3, 4, 6, 9]\n",
      "List alias after sorting alias [1, 2, 3, 4, 6, 9]\n",
      "List copy after sorting alias [2, 6, 3, 4, 1, 9]\n"
     ]
    }
   ],
   "source": [
    "a = [2, 6, 3, 4, 1, 9]\n",
    "a_copy = a[:]\n",
    "a_alias = a\n",
    "\n",
    "a_alias.sort()\n",
    "print (\"List after sorting alias\", a)\n",
    "print (\"List alias after sorting alias\", a_alias)\n",
    "print (\"List copy after sorting alias\", a_copy)"
   ]
  },
  {
   "cell_type": "markdown",
   "metadata": {},
   "source": [
    "But that's not the only way of sorting stuff in python. There is a built-in function, **sorted()**, that among other things can sort lists. In a slightly different manner:"
   ]
  },
  {
   "cell_type": "code",
   "execution_count": 5,
   "metadata": {},
   "outputs": [
    {
     "name": "stdout",
     "output_type": "stream",
     "text": [
      "List before sorting [2, 6, 3, 4, 1, 9]\n",
      "That's what 'sorted(list)' returns: [1, 2, 3, 4, 6, 9]\n",
      "List after sorting [2, 6, 3, 4, 1, 9]\n"
     ]
    }
   ],
   "source": [
    "a = [2, 6, 3, 4, 1, 9]\n",
    "print (\"List before sorting\", a)\n",
    "\n",
    "b = sorted(a)\n",
    "print (\"That's what 'sorted(list)' returns:\", b)\n",
    "print (\"List after sorting\", a)"
   ]
  },
  {
   "cell_type": "markdown",
   "metadata": {},
   "source": [
    "As you can see, **sorted()** not only sorts the list, it returns a new list where the elements are already sorted. On the other hand, **sorted()** does not change the state of original list. So here is a good rule of thumb: if you need to sort a list __forever__ and you don't care about its previous state, use **list.sort()**. If you need a __new__ list with sorted elements, use **sorted()**."
   ]
  },
  {
   "cell_type": "markdown",
   "metadata": {},
   "source": [
    "Sorted is a very powerful function, that can sort virtually anything, if it's iterable and comparable (or in simple English, if it can be sorted).\n",
    "Among those thing, you can sort tuples, because by using **sorted()** you don't change it. But as a result you're going to see a list:"
   ]
  },
  {
   "cell_type": "code",
   "execution_count": 6,
   "metadata": {},
   "outputs": [
    {
     "name": "stdout",
     "output_type": "stream",
     "text": [
      "Tuple before sorting (2, 6, 3, 4, 1, 9)\n",
      "That's what 'sorted(tuple)' returns: [1, 2, 3, 4, 6, 9]\n",
      "Tuple after sorting (2, 6, 3, 4, 1, 9)\n"
     ]
    }
   ],
   "source": [
    "a = (2, 6, 3, 4, 1, 9)\n",
    "print (\"Tuple before sorting\", a)\n",
    "\n",
    "b = sorted(a)\n",
    "print (\"That's what 'sorted(tuple)' returns:\", b)\n",
    "print (\"Tuple after sorting\", a)"
   ]
  },
  {
   "cell_type": "markdown",
   "metadata": {},
   "source": [
    "More than that, you can pass a special function (key, or comparator) to specify how exactly you need you collection to be sorted, and even sort in the reverse order. For example, let's sort a tuple of pairs in reverse order be the second element of the pair, and then by the first:"
   ]
  },
  {
   "cell_type": "code",
   "execution_count": 7,
   "metadata": {},
   "outputs": [
    {
     "name": "stdout",
     "output_type": "stream",
     "text": [
      "Tuple before sorting ((2, 1), (6, 2), (3, 3), (4, 4), (1, 5), (9, 6))\n",
      "Tuple after sorting by the second element of pair [(9, 6), (1, 5), (4, 4), (3, 3), (6, 2), (2, 1)]\n",
      "Tuple before sorting by the first element of pair [(9, 6), (6, 2), (4, 4), (3, 3), (2, 1), (1, 5)]\n"
     ]
    }
   ],
   "source": [
    "from operator import *\n",
    "a = ((2, 1), (6, 2), (3, 3), (4, 4), (1, 5), (9, 6))\n",
    "b = sorted(a, key=itemgetter(1), reverse=True)\n",
    "c = sorted(a, key=itemgetter(0), reverse=True)\n",
    "\n",
    "print (\"Tuple before sorting\", a)\n",
    "print (\"Tuple after sorting by the second element of pair\", b)\n",
    "print (\"Tuple before sorting by the first element of pair\", c)"
   ]
  },
  {
   "cell_type": "markdown",
   "metadata": {},
   "source": [
    "##### Exercise: \n",
    "Now let's play around with this helpful function a little bit more: sort dictionary. Can you figure out what each line of code is doing before run it? "
   ]
  },
  {
   "cell_type": "code",
   "execution_count": 8,
   "metadata": {},
   "outputs": [
    {
     "data": {
      "text/plain": [
       "('n', 8)"
      ]
     },
     "execution_count": 8,
     "metadata": {},
     "output_type": "execute_result"
    }
   ],
   "source": [
    "from collections import defaultdict\n",
    "a = \"how many characters are in this sentence, and which one is the most common one?\"\n",
    "def find_most_common_character(s):\n",
    "    chars = defaultdict(int)\n",
    "    words = s.split(\" \")\n",
    "    for word in words:\n",
    "        for c in word:\n",
    "            chars[c] += 1\n",
    "    # Q: How about sorting dictionary by key?\n",
    "    return sorted(chars.items(), key=lambda item: item[1], reverse=True)[0]\n",
    "    \n",
    "find_most_common_character(a)"
   ]
  },
  {
   "cell_type": "markdown",
   "metadata": {},
   "source": [
    "You can run even more complex sort operations, like sorting dictionaries be the value and so on. If you are more interested in how sort things out in python, you can read more about that on the corresponding [documentation page](https://docs.python.org/3/howto/sorting.html)"
   ]
  }
 ],
 "metadata": {
  "kernelspec": {
   "display_name": "Python 3",
   "language": "python",
   "name": "python3"
  },
  "language_info": {
   "codemirror_mode": {
    "name": "ipython",
    "version": 3
   },
   "file_extension": ".py",
   "mimetype": "text/x-python",
   "name": "python",
   "nbconvert_exporter": "python",
   "pygments_lexer": "ipython3",
   "version": "3.6.1"
  }
 },
 "nbformat": 4,
 "nbformat_minor": 2
}
