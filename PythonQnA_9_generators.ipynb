{
 "cells": [
  {
   "cell_type": "markdown",
   "metadata": {},
   "source": [
    "## Generators\n",
    "\n",
    "A generator is essentially an iterator over an object (say a dataset). You get a small chunk of data obtained through \"iterating over the larger object\" every time you make a call to the generator. Generators might prove to be useful in your implementation of sequential training algorithms where you only require a few samples of your data. For example, in a mini batch stochastic gradient descent, you would need to generate random samples from the dataset for performing an update on your gradient. Generators can be used in such use cases to create memory efficient implementations of your algorithm, since they allow you to perform operations without loading the whole dataset.\n",
    "\n",
    "Also see PEP 255 (https://www.python.org/dev/peps/pep-0255/). The explanation presented here is quite thorough.\n",
    "\n",
    "### Behaviour of generators\n",
    "\n",
    "A generator behaves like a function with states. Typically, functions in Python do not have any state information. The variables defined within the function scope are reset/destroyed at the end of every function call. A generator allows you store intermediate states between calls, so that every subsequent call can resume from the last state of execution. Generators introduced the `yield` keyword to Python. We will look at a few examples below.\n",
    "\n",
    "**NOTE**\n",
    "\n",
    "Although generators use the `def` keyword, they are not function objects. Generators are a class in their own right, but are slightly different from function objects.\n",
    "\n",
    "We take a look at our first generator."
   ]
  },
  {
   "cell_type": "code",
   "execution_count": null,
   "metadata": {
    "collapsed": true
   },
   "outputs": [],
   "source": [
    "## Example from PEP 0255\n",
    "def fib():\n",
    "    a, b = 0, 1\n",
    "    while 1:\n",
    "        yield b\n",
    "        a, b = b, a + b"
   ]
  },
  {
   "cell_type": "markdown",
   "metadata": {},
   "source": [
    "This is a generator that yields the infinite Fibonnaci sequence. With every call to fib after the first call, the state of the generator gets updated and the value of `b` is returned. \n",
    "\n",
    "To use a generator, we first create an instance of the generator. Use the `next` keywork to make calls to the generator. Once a generator has been consumed  completely, a `StopIteration` is raised if you try to consume more elements from the generator."
   ]
  },
  {
   "cell_type": "code",
   "execution_count": null,
   "metadata": {},
   "outputs": [],
   "source": [
    "gen1 = fib()\n",
    "\n",
    "# prints the first 10 fibonnaci numbers\n",
    "for i in range(10):\n",
    "    print(next(gen1), end=', ')\n",
    "print(\"\\nPassed!\")"
   ]
  },
  {
   "cell_type": "markdown",
   "metadata": {},
   "source": [
    "This example shows how you can represent an infinte sequence in Python without using up all the memory in the world. Next, we will look at a more practical example."
   ]
  },
  {
   "cell_type": "code",
   "execution_count": null,
   "metadata": {
    "collapsed": true
   },
   "outputs": [],
   "source": [
    "def nsquared(n):\n",
    "    while True:\n",
    "        yield n ** 2\n",
    "        n = n - 1\n",
    "        if n == 0:\n",
    "            return  # correct way to terminate a generator"
   ]
  },
  {
   "cell_type": "code",
   "execution_count": null,
   "metadata": {},
   "outputs": [],
   "source": [
    "gen2 = nsquared(10)\n",
    "\n",
    "for i in gen2:\n",
    "    print(i, end=', ')\n",
    "\n",
    "try:\n",
    "    next(gen2) # should raise a StopIteration exception\n",
    "except StopIteration:\n",
    "    print(\"\\nWe hit the the end of the generator, no more elements can be consumed\")\n",
    "except Exception as e:\n",
    "    print(\"\\nOops! Unexpected error\", e)\n",
    "finally:\n",
    "    print(\"Passed !\")"
   ]
  },
  {
   "cell_type": "markdown",
   "metadata": {},
   "source": [
    "Now, suppose you want to find the sum of squares of the first 1,000,000 (1 million) integers. You don't believe the analytical formula and want to calculate it directly by summing up all the requisite squares of integers. It is not memory efficient to create a list of 1 million integers just to compute a sum. This is where our custom generator comes to our rescue."
   ]
  },
  {
   "cell_type": "code",
   "execution_count": null,
   "metadata": {},
   "outputs": [],
   "source": [
    "squared_sum1 = sum([i**2 for i in range(1000001)])\n",
    "print(squared_sum1)"
   ]
  },
  {
   "cell_type": "code",
   "execution_count": null,
   "metadata": {},
   "outputs": [],
   "source": [
    "gen3 = nsquared(1000000)\n",
    "squared_sum2 = sum(gen3)\n",
    "print(squared_sum2)\n",
    "\n",
    "assert squared_sum1 == squared_sum1, \"Sums are not equal !\"\n",
    "print(\"Passed !\")"
   ]
  },
  {
   "cell_type": "markdown",
   "metadata": {},
   "source": [
    "Although both snippets of code give the same result, the implementation with the generator is more scalable since it uses constant memory. "
   ]
  },
  {
   "cell_type": "markdown",
   "metadata": {},
   "source": [
    "### Generator expressions\n",
    "\n",
    "See PEP 289 (https://www.python.org/dev/peps/pep-0289/).\n",
    "\n",
    "Generator expressions merge the concepts of both generators and list comprehensions. The syntax is almost similar to list comprehensions but the returned result is a generator instead of a list."
   ]
  },
  {
   "cell_type": "code",
   "execution_count": null,
   "metadata": {},
   "outputs": [],
   "source": [
    "gen4 = nsquared(10)\n",
    "print(gen4)\n",
    "gen5 = (i**2 for i in range(11))\n",
    "print(gen5)"
   ]
  },
  {
   "cell_type": "markdown",
   "metadata": {},
   "source": [
    "Both generators and generator expressions can be passed to the tuple, set or list constructors to create equivalent tuples, sets or lists.\n",
    "\n",
    "**NOTE** - I strongly recommend using finite generators in such use cases."
   ]
  },
  {
   "cell_type": "code",
   "execution_count": null,
   "metadata": {},
   "outputs": [],
   "source": [
    "# note that the generator has to be reinitialized once it has been consumed\n",
    "gen4 = nsquared(10)\n",
    "print(tuple(gen4))\n",
    "gen4 = nsquared(10)\n",
    "print(list(gen4))\n",
    "gen4 = nsquared(10)\n",
    "print(set(gen4))\n",
    "\n",
    "print(tuple(i**2 for i in range(11)))\n",
    "print(list(i**2 for i in range(11)))\n",
    "print(set(i**2 for i in range(11)))"
   ]
  },
  {
   "cell_type": "markdown",
   "metadata": {},
   "source": [
    "All the rules discussed in the previous sections about conditionals also apply to generator expressions"
   ]
  },
  {
   "cell_type": "code",
   "execution_count": null,
   "metadata": {},
   "outputs": [],
   "source": [
    "import numpy as np\n",
    "print(list(i**2 for i in range(11) if i <=5))\n",
    "print(list(i**2 if i <=5 else 1 for i in range(11)))\n",
    "mat = list(i**2 + j**2 if i < j else i + j for i in range(3) for j in range(3))\n",
    "print(np.array(mat).reshape(3,3))"
   ]
  },
  {
   "cell_type": "markdown",
   "metadata": {},
   "source": [
    "### Advanced generator stuff\n",
    "\n",
    "See PEP 380 for details. (https://www.python.org/dev/peps/pep-0380/)\n",
    "\n",
    "Python 3 introduced the concept of one generator delegating to sub-generators. This is achieved with the use of the `yield from` keyword. "
   ]
  },
  {
   "cell_type": "markdown",
   "metadata": {},
   "source": [
    "Suppose, you want to create a fancy new sequence by concatenating 3 sequences - the Fibonnaci sequence, a geometric series and a constant series. You can do this by creating a generator that delegates each of the subsequences to their own generators. To do this, we first create our subsequence generators."
   ]
  },
  {
   "cell_type": "code",
   "execution_count": null,
   "metadata": {
    "collapsed": true
   },
   "outputs": [],
   "source": [
    "# Same function, redefined here for clarity\n",
    "def fib(n):\n",
    "    a, b = 0, 1\n",
    "    count = 0\n",
    "    while 1:\n",
    "        yield b\n",
    "        count += 1\n",
    "        if count == n:\n",
    "            return\n",
    "        a, b = b, a + b\n",
    "\n",
    "def geom(n):\n",
    "    a = 1\n",
    "    count = 0\n",
    "    while True:\n",
    "        yield a\n",
    "        count += 1\n",
    "        if count == n:\n",
    "            return\n",
    "        a = a * 2\n",
    "\n",
    "def constant(n):\n",
    "    count = 0\n",
    "    while True:\n",
    "        yield -1\n",
    "        count += 1\n",
    "        if count == n:\n",
    "            return"
   ]
  },
  {
   "cell_type": "markdown",
   "metadata": {},
   "source": [
    "Now, we define our master generator."
   ]
  },
  {
   "cell_type": "code",
   "execution_count": null,
   "metadata": {
    "collapsed": true
   },
   "outputs": [],
   "source": [
    "def master_sequence(n):\n",
    "    g1 = fib(n)\n",
    "    g2 = geom(n)\n",
    "    g3 = constant(n)\n",
    "    count = 0\n",
    "    \n",
    "    yield from g1\n",
    "    yield from g2\n",
    "    yield from g3"
   ]
  },
  {
   "cell_type": "code",
   "execution_count": null,
   "metadata": {},
   "outputs": [],
   "source": [
    "master_gen = master_sequence(5) # creates a sequence of length 15\n",
    "print(list(master_gen))"
   ]
  },
  {
   "cell_type": "markdown",
   "metadata": {},
   "source": [
    "#### A non-trivial example\n",
    "\n",
    "Here is a non-trivial example of generator used in the Keras API (https://keras.io/preprocessing/image/). The flow_from_directory method returns a generator that yields batches of image data indefinitely. This generator delegates the process to subgenerators that in turn yield data from subfolders created in your dataset. Using this generator, you can analyze very large image datasets on your PC without loading the entire dataset into your RAM. This data generator is used to feed neural nets during training using variations of gradient descent."
   ]
  }
 ],
 "metadata": {
  "kernelspec": {
   "display_name": "Python 3",
   "language": "python",
   "name": "python3"
  },
  "language_info": {
   "codemirror_mode": {
    "name": "ipython",
    "version": 3
   },
   "file_extension": ".py",
   "mimetype": "text/x-python",
   "name": "python",
   "nbconvert_exporter": "python",
   "pygments_lexer": "ipython3",
   "version": "3.6.2"
  }
 },
 "nbformat": 4,
 "nbformat_minor": 2
}
