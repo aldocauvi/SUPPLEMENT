{
 "cells": [
  {
   "cell_type": "markdown",
   "metadata": {
    "collapsed": true
   },
   "source": [
    " # Fun with comprehensions !"
   ]
  },
  {
   "cell_type": "markdown",
   "metadata": {},
   "source": [
    "## List comprehensions\n",
    "\n",
    "Before we delve into list comprehensions, here is a bit of setup code."
   ]
  },
  {
   "cell_type": "code",
   "execution_count": 1,
   "metadata": {
    "collapsed": true
   },
   "outputs": [],
   "source": [
    "from numpy.random import randint\n",
    "import matplotlib.pyplot as plt\n",
    "%matplotlib inline\n",
    "\n",
    "S = randint(low=0, high=11, size=15) # 10 random integers b/w 0 and 10\n",
    "\n",
    "def f(x):\n",
    "    \"\"\"\n",
    "    Dummy function - returns identity\n",
    "    \"\"\"\n",
    "    return x"
   ]
  },
  {
   "cell_type": "markdown",
   "metadata": {},
   "source": [
    "Comprehensions are syntactic sugar imported from the functional programming paradigm that are meant to be used to write compact statements. Comprehensions can always be expanded into procedural statements using loops. Although comprehensions have a slight advantage in performance when compared to procedural loops, this doesn not mean that you should always prefer comprehensions over procedural code. Too much syntactic sugar can sometimes make your code unreadable. \n",
    "\n",
    "### Common patterns with list comprehensions in single variable\n",
    "\n",
    "The following sections contain examples of common patterns where list comprehensions are useful. The patterns described here are by no means ehaustive and are only meant to act as a solution template for common problems. One of the most typical uses of a list comprehension in single variable is to expand a mathematical formulation. "
   ]
  },
  {
   "cell_type": "markdown",
   "metadata": {},
   "source": [
    "#### Example 1\n",
    "\n",
    "\\begin{align*}\n",
    "y = f(x) \\ \\ \\forall x \\in S\n",
    "\\end{align*}"
   ]
  },
  {
   "cell_type": "code",
   "execution_count": 2,
   "metadata": {
    "scrolled": true
   },
   "outputs": [
    {
     "name": "stdout",
     "output_type": "stream",
     "text": [
      "(8, 8) (2, 2) (5, 5) (3, 3) (6, 6) (0, 0) (2, 2) (3, 3) (2, 2) (6, 6) (2, 2) (3, 3) (1, 1) (4, 4) (8, 8)\n"
     ]
    },
    {
     "data": {
      "text/plain": [
       "<matplotlib.collections.PathCollection at 0x16e9878e668>"
      ]
     },
     "execution_count": 2,
     "metadata": {},
     "output_type": "execute_result"
    },
    {
     "data": {
      "image/png": "[encoded data removed]",
      "text/plain": [
       "<matplotlib.figure.Figure at 0x16e99388da0>"
      ]
     },
     "metadata": {},
     "output_type": "display_data"
    }
   ],
   "source": [
    "y1 = [f(x) for x in S]\n",
    "print(*zip(S,y1))\n",
    "plt.scatter(S, y1)"
   ]
  },
  {
   "cell_type": "markdown",
   "metadata": {},
   "source": [
    "Such mathematical formulations lend themselves quite well to the use of comprehensions. Procedurally, this code can be broken down into"
   ]
  },
  {
   "cell_type": "code",
   "execution_count": 3,
   "metadata": {},
   "outputs": [
    {
     "name": "stdout",
     "output_type": "stream",
     "text": [
      "(8, 8) (2, 2) (5, 5) (3, 3) (6, 6) (0, 0) (2, 2) (3, 3) (2, 2) (6, 6) (2, 2) (3, 3) (1, 1) (4, 4) (8, 8)\n",
      "Passed!\n"
     ]
    }
   ],
   "source": [
    "y2 = []\n",
    "for x in S:\n",
    "    y2.append(f(x))\n",
    "print(*zip(S, y2))\n",
    "assert y1 == y2\n",
    "print(\"Passed!\")"
   ]
  },
  {
   "cell_type": "markdown",
   "metadata": {},
   "source": [
    "#### Example 2\n",
    "\n",
    "\\begin{align*}\n",
    "y &= \\begin{cases}\n",
    "0 & x \\leq 5 \\\\\n",
    "f(x) & \\text{otherwise}\n",
    "\\end{cases}\\\\\n",
    "&\\forall x \\in S\n",
    "\\end{align*}"
   ]
  },
  {
   "cell_type": "code",
   "execution_count": 4,
   "metadata": {},
   "outputs": [
    {
     "name": "stdout",
     "output_type": "stream",
     "text": [
      "(8, 8) (2, 0) (5, 0) (3, 0) (6, 6) (0, 0) (2, 0) (3, 0) (2, 0) (6, 6) (2, 0) (3, 0) (1, 0) (4, 0) (8, 8)\n"
     ]
    },
    {
     "data": {
      "text/plain": [
       "<matplotlib.collections.PathCollection at 0x16e9b7692b0>"
      ]
     },
     "execution_count": 4,
     "metadata": {},
     "output_type": "execute_result"
    },
    {
     "data": {
      "image/png": "[encoded data removed]",
      "text/plain": [
       "<matplotlib.figure.Figure at 0x16e9b6f0a90>"
      ]
     },
     "metadata": {},
     "output_type": "display_data"
    }
   ],
   "source": [
    "y1 = [0 if x <= 5 else f(x) for x in S]\n",
    "print(*zip(S,y1))\n",
    "plt.scatter(S, y1)"
   ]
  },
  {
   "cell_type": "markdown",
   "metadata": {},
   "source": [
    "**NOTE**:\n",
    "\n",
    "This is not different from the first pattern in syntactic terms. This is a trick based on the ternary expressions in Python. \n",
    "\n",
    "The procedural equivalent of this code is shown below."
   ]
  },
  {
   "cell_type": "code",
   "execution_count": 5,
   "metadata": {},
   "outputs": [
    {
     "name": "stdout",
     "output_type": "stream",
     "text": [
      "(8, 8) (2, 0) (5, 0) (3, 0) (6, 6) (0, 0) (2, 0) (3, 0) (2, 0) (6, 6) (2, 0) (3, 0) (1, 0) (4, 0) (8, 8)\n",
      "Passed!\n"
     ]
    }
   ],
   "source": [
    "y2 = []\n",
    "for x in S:\n",
    "    if x <= 5:\n",
    "        y2.append(0)\n",
    "    else:\n",
    "        y2.append(f(x))\n",
    "print(*zip(S, y2))\n",
    "assert y1 == y2\n",
    "print(\"Passed!\")"
   ]
  },
  {
   "cell_type": "markdown",
   "metadata": {},
   "source": [
    "The two patterns shown in examples 1 and 2 can be generalised to the following pattern.\n",
    "\n",
    "```python\n",
    "output_list = [expression(i) for i in some_iterable]\n",
    "\n",
    "```"
   ]
  },
  {
   "cell_type": "markdown",
   "metadata": {},
   "source": [
    "#### Example 3\n",
    "\n",
    "\\begin{align*}\n",
    "y = f(x) \\ \\forall x \\in s \\subseteq S\n",
    "\\end{align*}\n",
    "\n",
    "As the notation indicates, the function exists for only a subset of the input space, namely $s \\subseteq S$. The subset can be seen as imposing a condition on the input space.\n",
    "\n",
    "For the purpose of this example, we will use $s = \\{x: x \\leq 5, x \\in S\\}$."
   ]
  },
  {
   "cell_type": "code",
   "execution_count": 6,
   "metadata": {},
   "outputs": [
    {
     "name": "stdout",
     "output_type": "stream",
     "text": [
      "(2, 2) (5, 5) (3, 3) (0, 0) (2, 2) (3, 3) (2, 2) (2, 2) (3, 3) (1, 1) (4, 4)\n"
     ]
    },
    {
     "data": {
      "text/plain": [
       "<matplotlib.collections.PathCollection at 0x16e9b8150b8>"
      ]
     },
     "execution_count": 6,
     "metadata": {},
     "output_type": "execute_result"
    },
    {
     "data": {
      "image/png": "[encoded data removed]",
      "text/plain": [
       "<matplotlib.figure.Figure at 0x16e9b7abf28>"
      ]
     },
     "metadata": {},
     "output_type": "display_data"
    }
   ],
   "source": [
    "y1 = [f(x) for x in S if x <= 5]\n",
    "s = [x for x in S if x <= 5]\n",
    "print(*zip(s,y1))\n",
    "\n",
    "# Note how the output range has been modified due to the change in input range\n",
    "plt.scatter(s, y1)"
   ]
  },
  {
   "cell_type": "markdown",
   "metadata": {},
   "source": [
    "The procedural equivalent of this code is shown below."
   ]
  },
  {
   "cell_type": "code",
   "execution_count": 7,
   "metadata": {},
   "outputs": [
    {
     "name": "stdout",
     "output_type": "stream",
     "text": [
      "(8, 2) (2, 5) (5, 3) (3, 0) (6, 2) (0, 3) (2, 2) (3, 2) (2, 3) (6, 1) (2, 4)\n",
      "Passed!\n"
     ]
    }
   ],
   "source": [
    "y2 = []\n",
    "for x in S:\n",
    "    if x <= 5:\n",
    "        y2.append(f(x))\n",
    "assert y2 == y1\n",
    "print(*zip(S, y2))\n",
    "print(\"Passed!\")"
   ]
  },
  {
   "cell_type": "markdown",
   "metadata": {},
   "source": [
    "This pattern is syntactically different from the previous pattern. It can be generalized as\n",
    "\n",
    "```python\n",
    "output_list = [expression(i) for i in some_iterable if condition(i)]\n",
    "```"
   ]
  },
  {
   "cell_type": "markdown",
   "metadata": {},
   "source": [
    "### List comprehensions with two variables\n",
    "Comprehensions can also be extended to multiple variables. The rules discussed in the previous section also apply to the multivariable comprehensions. The main thing you need to remember for multivariable comprehensions is that the outer variable in the comprehension varies the fastest.\n",
    "\n",
    "#### Example 4\n",
    "\n",
    "For example, imagine a matrix \n",
    "\\begin{align*}\n",
    "C &= g(i,j) \\\\\n",
    "i &\\in 0\\cdots2,\\ j \\in 0\\cdots2\n",
    "\\end{align*}\n",
    "\n",
    "We can create the flattened matrix in a single list comprehension using the following code."
   ]
  },
  {
   "cell_type": "code",
   "execution_count": 8,
   "metadata": {},
   "outputs": [
    {
     "name": "stdout",
     "output_type": "stream",
     "text": [
      "[1.0, 0.5, 0.3333333333333333, 2.0, 1.0, 0.6666666666666666, 3.0, 1.5, 1.0]\n",
      "[[ 1.          0.5         0.33333333]\n",
      " [ 2.          1.          0.66666667]\n",
      " [ 3.          1.5         1.        ]]\n"
     ]
    }
   ],
   "source": [
    "import numpy as np\n",
    "\n",
    "def g(i, j):\n",
    "    \"\"\"\n",
    "    Returns the result of division of indices\n",
    "    \"\"\"\n",
    "    return (i + 1)/ (j + 1)\n",
    "\n",
    "C1 = [g(i,j) for i in range(0,3) for j in range(0,3)] # replace g with any function that you want\n",
    "\n",
    "print(C1)\n",
    "print(np.array(C1).reshape(3,3))"
   ]
  },
  {
   "cell_type": "markdown",
   "metadata": {},
   "source": [
    "The procedural equivalent of this code is shown below."
   ]
  },
  {
   "cell_type": "code",
   "execution_count": 9,
   "metadata": {},
   "outputs": [
    {
     "name": "stdout",
     "output_type": "stream",
     "text": [
      "[1.0, 0.5, 0.3333333333333333, 2.0, 1.0, 0.6666666666666666, 3.0, 1.5, 1.0]\n",
      "Passed!\n"
     ]
    }
   ],
   "source": [
    "C2 = []\n",
    "for i in range(3):\n",
    "    for j in range(3):\n",
    "        C2.append(g(i, j))\n",
    "print(C2)\n",
    "assert C1 == C2\n",
    "print(\"Passed!\")"
   ]
  },
  {
   "cell_type": "markdown",
   "metadata": {},
   "source": [
    "Example 2 also has an equivalent in the two variable case.\n",
    "\n",
    "#### Example 5\n",
    "\n",
    "For example,\n",
    "\\begin{align*}\n",
    "C &= \\begin{cases} \n",
    "g(i,j) & i \\neq j \\\\\n",
    "0 & i = j\n",
    "\\end{cases} \\\\\n",
    "i &\\in 0\\cdots2, j \\in 0\\cdots2\n",
    "\\end{align*}"
   ]
  },
  {
   "cell_type": "code",
   "execution_count": 10,
   "metadata": {},
   "outputs": [
    {
     "name": "stdout",
     "output_type": "stream",
     "text": [
      "[0, 0.5, 0.3333333333333333, 2.0, 0, 0.6666666666666666, 3.0, 1.5, 0]\n",
      "[[ 0.          0.5         0.33333333]\n",
      " [ 2.          0.          0.66666667]\n",
      " [ 3.          1.5         0.        ]]\n"
     ]
    }
   ],
   "source": [
    "C1 = [g(i,j) if i !=j else 0 for i in range(0,3) for j in range(0,3)] \n",
    "\n",
    "print(C1)\n",
    "print(np.array(C1).reshape(3,3))"
   ]
  },
  {
   "cell_type": "markdown",
   "metadata": {},
   "source": [
    "Technically, this is the same pattern as the previous example but uses the ternary operator (as shown in example 2). The procedural equivalent is shown below."
   ]
  },
  {
   "cell_type": "code",
   "execution_count": 11,
   "metadata": {},
   "outputs": [
    {
     "name": "stdout",
     "output_type": "stream",
     "text": [
      "[0, 0.5, 0.3333333333333333, 2.0, 0, 0.6666666666666666, 3.0, 1.5, 0]\n",
      "Passed!\n"
     ]
    }
   ],
   "source": [
    "C2 = []\n",
    "for i in range(3):\n",
    "    for j in range(3):\n",
    "        if i != j:\n",
    "            C2.append(g(i,j))\n",
    "        else:\n",
    "            C2.append(0)\n",
    "print(C2)\n",
    "assert C1 == C2\n",
    "print(\"Passed!\")"
   ]
  },
  {
   "cell_type": "markdown",
   "metadata": {},
   "source": [
    "The two examples can be generalized to\n",
    "\n",
    "```python\n",
    "output_list = [expr(i,j) for i in iterable1 for j in iterable2] # j varies fastest\n",
    "```"
   ]
  },
  {
   "cell_type": "markdown",
   "metadata": {},
   "source": [
    "Restrictions on the input space as shown in example 3 can also extended to the multivariable comprehension. This is illustrated below for the sake of completeness, but the result cannot be displayed as a matrix.\n",
    "\n",
    "#### Example 6\n",
    "\n",
    "For example,\n",
    "\\begin{align*}\n",
    "C &= g(i,j)  \\\\\n",
    "i &\\in 0\\cdots2,\\ j \\in 0\\cdots2,\\ i \\neq j \n",
    "\\end{align*}"
   ]
  },
  {
   "cell_type": "code",
   "execution_count": 12,
   "metadata": {},
   "outputs": [
    {
     "name": "stdout",
     "output_type": "stream",
     "text": [
      "[(0, 1, 0.5), (0, 2, 0.3333333333333333), (1, 0, 2.0), (1, 2, 0.6666666666666666), (2, 0, 3.0), (2, 1, 1.5)]\n"
     ]
    }
   ],
   "source": [
    "C1 = [ (i, j, g(i,j)) for i in range(0,3) for j in range(0,3) if i !=j] \n",
    "print(C1) # note that the input restriction on the diagonals removes the diagonals from the output list"
   ]
  },
  {
   "cell_type": "markdown",
   "metadata": {},
   "source": [
    "The procedural equivalent is shown below."
   ]
  },
  {
   "cell_type": "code",
   "execution_count": 13,
   "metadata": {},
   "outputs": [
    {
     "name": "stdout",
     "output_type": "stream",
     "text": [
      "[(0, 1, 0.5), (0, 2, 0.3333333333333333), (1, 0, 2.0), (1, 2, 0.6666666666666666), (2, 0, 3.0), (2, 1, 1.5)]\n",
      "Passed!\n"
     ]
    }
   ],
   "source": [
    "C2 = []\n",
    "for i in range(3):\n",
    "    for j in range(3):\n",
    "        if i != j:\n",
    "            C2.append((i, j, g(i,j)))\n",
    "print(C2)\n",
    "assert C1 == C2\n",
    "print(\"Passed!\")"
   ]
  },
  {
   "cell_type": "markdown",
   "metadata": {},
   "source": [
    "The pattern can be generalized as\n",
    "\n",
    "```python\n",
    "output_list = [expr(i,j) for i in iterable1 for j in iterable2 if condition(i,j)]\n",
    "```\n",
    "\n",
    "Comprehensions can be used with even more variables but readability takes a serious hit with more than two variables."
   ]
  },
  {
   "cell_type": "markdown",
   "metadata": {},
   "source": [
    "See PEP 202 (https://www.python.org/dev/peps/pep-0202/) for more details about list comprehensions. I highly encourage reading PEP documents since you often get the rationale behind a feature in the language straight from the horse's mouth."
   ]
  },
  {
   "cell_type": "markdown",
   "metadata": {},
   "source": [
    "## Dictionary comprehensions\n",
    "\n",
    "See PEP 274 (https://www.python.org/dev/peps/pep-0274/)\n",
    "\n",
    "You can use dict comprehensions in ways very similar to list comprehensions, except that they produce Python dictionary objects instead of list objects.\n",
    "\n",
    "Mathematically, dictionary comprehensions are suited to representing functions.\n",
    "\n",
    "$$\n",
    "\\begin{align*}\n",
    "    x \\rightarrow f(x), x \\in S\n",
    "\\end{align*}\n",
    "$$\n",
    "\n",
    "can be translated as"
   ]
  },
  {
   "cell_type": "code",
   "execution_count": 14,
   "metadata": {},
   "outputs": [
    {
     "name": "stdout",
     "output_type": "stream",
     "text": [
      "{8: 8, 2: 2, 5: 5, 3: 3, 6: 6, 0: 0, 1: 1, 4: 4}\n"
     ]
    }
   ],
   "source": [
    "dict_comp = {x:f(x) for x in S}\n",
    "print(dict_comp)"
   ]
  },
  {
   "cell_type": "markdown",
   "metadata": {},
   "source": [
    "The patterns discussed in the previous section also apply here. There are mainly two kinds of patterns in the single variable case.\n",
    "\n",
    "```python\n",
    "dict_comp1 = {x:expr(x) for x in iterable}\n",
    "dict_comp2 = {x:expr(x) for x in iterable if condition(x)}\n",
    "```"
   ]
  },
  {
   "cell_type": "markdown",
   "metadata": {},
   "source": [
    "## What not to do with comprehensions\n",
    "\n",
    "1\\. Do not use side effects within comprehensions"
   ]
  },
  {
   "cell_type": "code",
   "execution_count": 15,
   "metadata": {},
   "outputs": [
    {
     "name": "stdout",
     "output_type": "stream",
     "text": [
      "0\n",
      "1\n",
      "2\n",
      "0\n",
      "1\n",
      "2\n"
     ]
    }
   ],
   "source": [
    "# Bad code\n",
    "[print(i) for i in range(3)]\n",
    "\n",
    "# you know you can do better than that\n",
    "for i in range(3):\n",
    "    print(i)\n",
    "# that's better"
   ]
  },
  {
   "cell_type": "markdown",
   "metadata": {},
   "source": [
    "2\\. Do not sacrifice readability over \"speed\". For example, do not write code like the snippet shown below"
   ]
  },
  {
   "cell_type": "code",
   "execution_count": 16,
   "metadata": {
    "collapsed": true
   },
   "outputs": [],
   "source": [
    "x1 = [i if i <= 10 else i**2 if 10 < i <= 20 else i**4 if 20 < i <= 50 else 1.0 / i for i in range(100) if i not in (5, 7, 11, 13, 17, 19, 29, 37, 41, 43, 47, 53, 59, 61, 67, 71, 73, 79, 83, 89, 97)]"
   ]
  },
  {
   "cell_type": "markdown",
   "metadata": {},
   "source": [
    "The procedural code is more readable compared to the comprehension"
   ]
  },
  {
   "cell_type": "code",
   "execution_count": 17,
   "metadata": {},
   "outputs": [
    {
     "name": "stdout",
     "output_type": "stream",
     "text": [
      "Passed !\n"
     ]
    }
   ],
   "source": [
    "# procedural code is more readable in this case here\n",
    "x2 = []\n",
    "for i in range(100):\n",
    "    # optimus primes are beyond our reach, https://oeis.org/A217090 \n",
    "    if i not in (5, 7, 11, 13, 17, 19, 29, 37, 41, 43, 47, 53, 59, 61, 67, 71, 73, 79, 83, 89, 97):\n",
    "        if i <= 10:\n",
    "            x2.append(i)\n",
    "        elif 10 < i <= 20:\n",
    "            x2.append(i**2)\n",
    "        elif 20 < i <= 50:\n",
    "            x2.append(i**4)\n",
    "        else:\n",
    "            x2.append(1.0 / i)\n",
    "assert x2 == x1\n",
    "print(\"Passed !\")"
   ]
  },
  {
   "cell_type": "markdown",
   "metadata": {},
   "source": [
    "This can be shortened to comprehension for readability with a little bit of refactoring."
   ]
  },
  {
   "cell_type": "code",
   "execution_count": 18,
   "metadata": {},
   "outputs": [
    {
     "name": "stdout",
     "output_type": "stream",
     "text": [
      "Passed!\n"
     ]
    }
   ],
   "source": [
    "def function(val):\n",
    "    if val <= 10:\n",
    "        return val\n",
    "    elif 10 < val <= 20:\n",
    "        return val**2\n",
    "    elif 20 < val <= 50:\n",
    "        return val**4\n",
    "    else:\n",
    "        return 1.0 / val\n",
    "\n",
    "def is_optimus_prime(val):\n",
    "    return val in (5, 7, 11, 13, 17, 19, 29, 37, 41, 43, 47, 53, 59, 61, 67, 71, 73, 79, 83, 89, 97)\n",
    "\n",
    "x3 = [function(i) for i in range(100) if not is_optimus_prime(i)]\n",
    "assert x1 == x2 == x3\n",
    "print(\"Passed!\")"
   ]
  }
 ],
 "metadata": {
  "kernelspec": {
   "display_name": "Python 3",
   "language": "python",
   "name": "python3"
  },
  "language_info": {
   "codemirror_mode": {
    "name": "ipython",
    "version": 3
   },
   "file_extension": ".py",
   "mimetype": "text/x-python",
   "name": "python",
   "nbconvert_exporter": "python",
   "pygments_lexer": "ipython3",
   "version": "3.6.1"
  }
 },
 "nbformat": 4,
 "nbformat_minor": 2
}
