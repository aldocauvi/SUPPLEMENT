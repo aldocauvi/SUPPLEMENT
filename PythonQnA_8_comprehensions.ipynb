{
 "cells": [
  {
   "cell_type": "markdown",
   "metadata": {
    "collapsed": true
   },
   "source": [
    "# Reading, and writing, comprehension(s)"
   ]
  },
  {
   "cell_type": "markdown",
   "metadata": {},
   "source": [
    "Before we delve into the topic of comprehensions, here is a bit of setup code."
   ]
  },
  {
   "cell_type": "code",
   "execution_count": null,
   "metadata": {
    "collapsed": true
   },
   "outputs": [],
   "source": [
    "from numpy.random import randint\n",
    "import matplotlib.pyplot as plt\n",
    "%matplotlib inline\n",
    "\n",
    "S = randint(low=0, high=11, size=15) # 10 random integers b/w 0 and 10\n",
    "\n",
    "def f(x):\n",
    "    \"\"\"\n",
    "    Dummy function - returns identity\n",
    "    \"\"\"\n",
    "    return x"
   ]
  },
  {
   "cell_type": "markdown",
   "metadata": {},
   "source": [
    "## List comprehensions\n",
    "\n",
    "List comprehensions are a special syntax for compactly generating lists. Historically, they come from a programming style referred to as _functional programming_.\n",
    "\n",
    "A list comprehensions can always be expanded into procedural statements using loops. Although comprehensions have a slight advantage in performance when compared to loops, this doesn't mean that you should always prefer comprehensions over procedural code. Too much syntactic sugar can be hazardous to your (program's) health, in the sense of making it hard to read."
   ]
  },
  {
   "cell_type": "markdown",
   "metadata": {},
   "source": [
    "### Common patterns with list comprehensions in single variable\n",
    "\n",
    "The following sections contain examples of common patterns where list comprehensions are useful. The patterns described here are by no means exhaustive. Rather, they are meant to act as a solution template for common problems.\n",
    "\n",
    "A typical use of a list comprehension in a single variable is to expand statements in mathematics known as (universal) quantifiers, or \"for-all\" statements."
   ]
  },
  {
   "cell_type": "markdown",
   "metadata": {},
   "source": [
    "#### Example 1\n",
    "\n",
    "The following mathematical statement,\n",
    "\n",
    "$$\n",
    "y = f(x) \\ \\ \\forall x \\in S,\n",
    "$$\n",
    "\n",
    "is usually read as, \"for all elements $x$ from a collection $S$, (let) $y$ equal $f(x)$.\" Statements of this form have natural translations into Python using list comprehensions. To wit:"
   ]
  },
  {
   "cell_type": "code",
   "execution_count": null,
   "metadata": {
    "scrolled": true
   },
   "outputs": [],
   "source": [
    "print(\"1. S == {}\".format(S))\n",
    "y1 = [f(x) for x in S]\n",
    "print(\"2. All (x, f(x)) pairs: {}\".format(list(zip(S, y1))))\n",
    "plt.scatter(S, y1)"
   ]
  },
  {
   "cell_type": "markdown",
   "metadata": {},
   "source": [
    "As you can see, the translation from the math to code is natural.\n",
    "\n",
    "In a procedural or iterative style, an equivalent program might look like the following."
   ]
  },
  {
   "cell_type": "code",
   "execution_count": null,
   "metadata": {},
   "outputs": [],
   "source": [
    "y2 = []\n",
    "for x in S:\n",
    "    y2.append(f(x))\n",
    "    \n",
    "print(\"3. All (x, f(x)) pairs: {}\".format(list(zip(S, y2))))\n",
    "\n",
    "assert y1 == y2"
   ]
  },
  {
   "cell_type": "markdown",
   "metadata": {},
   "source": [
    "#### Example 2\n",
    "\n",
    "The syntax extends nicely in the presence of conditionals. For instance, consider the following:\n",
    "\n",
    "\\begin{align*}\n",
    "y &= \\begin{cases}\n",
    "0 & x \\leq 5 \\\\\n",
    "f(x) & \\text{otherwise}\n",
    "\\end{cases}\\\\\n",
    "&\\forall x \\in S\n",
    "\\end{align*}\n",
    "\n",
    "The list comprehension-based code might look as follows:"
   ]
  },
  {
   "cell_type": "code",
   "execution_count": null,
   "metadata": {},
   "outputs": [],
   "source": [
    "y1 = [0 if x <= 5 else f(x) for x in S]\n",
    "print(*zip(S,y1))\n",
    "plt.scatter(S, y1)"
   ]
  },
  {
   "cell_type": "markdown",
   "metadata": {},
   "source": [
    "**NOTE**:\n",
    "\n",
    "This is not different from the first pattern in syntactic terms. This is a trick based on the ternary expressions in Python. \n",
    "\n",
    "The procedural equivalent of this code is shown below."
   ]
  },
  {
   "cell_type": "code",
   "execution_count": null,
   "metadata": {},
   "outputs": [],
   "source": [
    "y2 = []\n",
    "for x in S:\n",
    "    if x <= 5:\n",
    "        y2.append(0)\n",
    "    else:\n",
    "        y2.append(f(x))\n",
    "print(*zip(S, y2))\n",
    "assert y1 == y2\n",
    "print(\"Passed!\")"
   ]
  },
  {
   "cell_type": "markdown",
   "metadata": {},
   "source": [
    "The two patterns shown in examples 1 and 2 can be generalised to the following pattern.\n",
    "\n",
    "```python\n",
    "output_list = [expression(i) for i in some_iterable]\n",
    "\n",
    "```"
   ]
  },
  {
   "cell_type": "markdown",
   "metadata": {},
   "source": [
    "#### Example 3\n",
    "\n",
    "Suppose we wish to construct a list from a _subset_ of the elements of $S$. That is, let $R \\subseteq S$ and consider\n",
    "\n",
    "\\begin{align*}\n",
    "y = f(x) \\ \\forall x \\in R, \\mbox{ where } R \\subseteq S.\n",
    "\\end{align*}\n",
    "\n",
    "As this notation indicates, we are interested in the function's value for only a subset of the input space, namely $R \\subseteq S$. The subset can be seen as imposing a condition on the input space.\n",
    "\n",
    "For the purpose of this example, we will use $R = \\{x: x \\leq 5, x \\in S\\}$."
   ]
  },
  {
   "cell_type": "code",
   "execution_count": null,
   "metadata": {},
   "outputs": [],
   "source": [
    "y1 = [f(x) for x in S if x <= 5]\n",
    "s = [x for x in S if x <= 5]\n",
    "print(*zip(s,y1))\n",
    "\n",
    "# Note how the output range has been modified due to the change in input range\n",
    "plt.scatter(s, y1)"
   ]
  },
  {
   "cell_type": "markdown",
   "metadata": {},
   "source": [
    "The procedural equivalent of this code is shown below."
   ]
  },
  {
   "cell_type": "code",
   "execution_count": null,
   "metadata": {},
   "outputs": [],
   "source": [
    "y2 = []\n",
    "for x in S:\n",
    "    if x <= 5:\n",
    "        y2.append(f(x))\n",
    "assert y2 == y1\n",
    "print(*zip(S, y2))\n",
    "print(\"Passed!\")"
   ]
  },
  {
   "cell_type": "markdown",
   "metadata": {},
   "source": [
    "This pattern is syntactically different from the previous pattern. It can be generalized as\n",
    "\n",
    "```python\n",
    "output_list = [expression(i) for i in some_iterable if condition(i)]\n",
    "```"
   ]
  },
  {
   "cell_type": "markdown",
   "metadata": {},
   "source": [
    "### List comprehensions with two variables\n",
    "Comprehensions can also be extended to multiple variables. The rules discussed in the previous section also apply to the multivariable comprehensions. The main thing you need to remember for multivariable comprehensions is that the outer variable in the comprehension varies the fastest.\n",
    "\n",
    "#### Example 4\n",
    "\n",
    "For example, imagine a matrix $C$ whose elements are given by\n",
    "\n",
    "\\begin{align*}\n",
    "c_{i,j} &= g(i,j) \\\\\n",
    "i &\\in 0\\cdots2,\\ j \\in 0\\cdots2\n",
    "\\end{align*}\n",
    "\n",
    "We can create the (flattened) matrix in a single list comprehension using the following code."
   ]
  },
  {
   "cell_type": "code",
   "execution_count": null,
   "metadata": {},
   "outputs": [],
   "source": [
    "import numpy as np\n",
    "\n",
    "def g(i, j):\n",
    "    \"\"\"\n",
    "    Returns the result of division of indices\n",
    "    \"\"\"\n",
    "    return (i + 1) / (j + 1)\n",
    "\n",
    "C1 = [g(i,j) for i in range(0,3) for j in range(0,3)] # replace g with any function that you want\n",
    "\n",
    "print(C1)\n",
    "print(np.array(C1).reshape(3,3))"
   ]
  },
  {
   "cell_type": "markdown",
   "metadata": {},
   "source": [
    "The procedural equivalent of this code is shown below."
   ]
  },
  {
   "cell_type": "code",
   "execution_count": null,
   "metadata": {},
   "outputs": [],
   "source": [
    "C2 = []\n",
    "for i in range(3):\n",
    "    for j in range(3):\n",
    "        C2.append(g(i, j))\n",
    "print(C2)\n",
    "assert C1 == C2\n",
    "print(\"Passed!\")"
   ]
  },
  {
   "cell_type": "markdown",
   "metadata": {},
   "source": [
    "Example 2 also has an equivalent in the two variable case.\n",
    "\n",
    "#### Example 5\n",
    "\n",
    "For example,\n",
    "\\begin{align*}\n",
    "C &= \\begin{cases} \n",
    "g(i,j) & i \\neq j \\\\\n",
    "0 & i = j\n",
    "\\end{cases} \\\\\n",
    "i &\\in 0\\cdots2, j \\in 0\\cdots2\n",
    "\\end{align*}"
   ]
  },
  {
   "cell_type": "code",
   "execution_count": null,
   "metadata": {},
   "outputs": [],
   "source": [
    "C1 = [g(i,j) if i !=j else 0 for i in range(0,3) for j in range(0,3)] \n",
    "\n",
    "print(C1)\n",
    "print(np.array(C1).reshape(3,3))"
   ]
  },
  {
   "cell_type": "markdown",
   "metadata": {},
   "source": [
    "Technically, this is the same pattern as the previous example but uses the ternary operator (as shown in example 2). The procedural equivalent is shown below."
   ]
  },
  {
   "cell_type": "code",
   "execution_count": null,
   "metadata": {},
   "outputs": [],
   "source": [
    "C2 = []\n",
    "for i in range(3):\n",
    "    for j in range(3):\n",
    "        if i != j:\n",
    "            C2.append(g(i,j))\n",
    "        else:\n",
    "            C2.append(0)\n",
    "print(C2)\n",
    "assert C1 == C2\n",
    "print(\"Passed!\")"
   ]
  },
  {
   "cell_type": "markdown",
   "metadata": {},
   "source": [
    "The two examples can be generalized to\n",
    "\n",
    "```python\n",
    "output_list = [expr(i,j) for i in iterable1 for j in iterable2] # j varies fastest\n",
    "```"
   ]
  },
  {
   "cell_type": "markdown",
   "metadata": {},
   "source": [
    "Restrictions on the input space as shown in example 3 can also extended to the multivariable comprehension. This is illustrated below for the sake of completeness, though the result cannot be displayed as a matrix.\n",
    "\n",
    "#### Example 6\n",
    "\n",
    "For example,\n",
    "\\begin{align*}\n",
    "C &= g(i,j)  \\\\\n",
    "i &\\in 0\\cdots2,\\ j \\in 0\\cdots2,\\ i \\neq j \n",
    "\\end{align*}"
   ]
  },
  {
   "cell_type": "code",
   "execution_count": null,
   "metadata": {},
   "outputs": [],
   "source": [
    "C1 = [ (i, j, g(i,j)) for i in range(0,3) for j in range(0,3) if i !=j] \n",
    "print(C1) # note that the input restriction on the diagonals removes the diagonals from the output list"
   ]
  },
  {
   "cell_type": "markdown",
   "metadata": {},
   "source": [
    "The procedural equivalent is shown below."
   ]
  },
  {
   "cell_type": "code",
   "execution_count": null,
   "metadata": {},
   "outputs": [],
   "source": [
    "C2 = []\n",
    "for i in range(3):\n",
    "    for j in range(3):\n",
    "        if i != j:\n",
    "            C2.append((i, j, g(i,j)))\n",
    "print(C2)\n",
    "assert C1 == C2\n",
    "print(\"Passed!\")"
   ]
  },
  {
   "cell_type": "markdown",
   "metadata": {},
   "source": [
    "The pattern can be generalized as\n",
    "\n",
    "```python\n",
    "output_list = [expr(i,j) for i in iterable1 for j in iterable2 if condition(i,j)]\n",
    "```\n",
    "\n",
    "Comprehensions can be used with even more variables but readability takes a serious hit with more than two variables."
   ]
  },
  {
   "cell_type": "markdown",
   "metadata": {},
   "source": [
    "See PEP 202 (https://www.python.org/dev/peps/pep-0202/) for more details about list comprehensions. I highly encourage reading PEP documents since you often get the rationale behind a feature in the language straight from the horse's mouth."
   ]
  },
  {
   "cell_type": "markdown",
   "metadata": {},
   "source": [
    "## Dictionary comprehensions\n",
    "\n",
    "Some other built-in collections in Python have \"comprehensive\" analogues. One example is the _dictionary comprehension_, which is described in PEP 274 (https://www.python.org/dev/peps/pep-0274/).\n",
    "\n",
    "You can use dictionary comprehensions in ways very similar to list comprehensions, except that the output of a dictionary comprehension is, well, a dictionary instead of a list.\n",
    "\n",
    "Mathematically, dictionary comprehensions are suited to representing functions.\n",
    "\n",
    "$$\n",
    "\\begin{align*}\n",
    "    x \\rightarrow f(x), x \\in S\n",
    "\\end{align*}\n",
    "$$\n",
    "\n",
    "can be translated as"
   ]
  },
  {
   "cell_type": "code",
   "execution_count": null,
   "metadata": {},
   "outputs": [],
   "source": [
    "dict_comp = {x: f(x) for x in S}\n",
    "print(dict_comp)"
   ]
  },
  {
   "cell_type": "markdown",
   "metadata": {},
   "source": [
    "The patterns discussed in the previous section also apply here. There are mainly two kinds of patterns in the single variable case.\n",
    "\n",
    "```python\n",
    "dict_comp1 = {x: expr(x) for x in iterable}\n",
    "dict_comp2 = {x: expr(x) for x in iterable if condition(x)}\n",
    "```"
   ]
  },
  {
   "cell_type": "markdown",
   "metadata": {},
   "source": [
    "## What not to do with comprehensions\n",
    "\n",
    "1\\. Do not use side effects within comprehensions"
   ]
  },
  {
   "cell_type": "code",
   "execution_count": null,
   "metadata": {},
   "outputs": [],
   "source": [
    "# Bad code\n",
    "[print(i) for i in range(3)]\n",
    "\n",
    "# you know you can do better than that\n",
    "for i in range(3):\n",
    "    print(i)\n",
    "# that's better"
   ]
  },
  {
   "cell_type": "markdown",
   "metadata": {},
   "source": [
    "2\\. Do not sacrifice readability over \"speed.\" For example, do not write code like the snippet shown below"
   ]
  },
  {
   "cell_type": "code",
   "execution_count": null,
   "metadata": {
    "collapsed": true
   },
   "outputs": [],
   "source": [
    "x1 = [i if i <= 10 else i**2 if 10 < i <= 20 else i**4 if 20 < i <= 50 else 1.0 / i for i in range(100) if i not in (5, 7, 11, 13, 17, 19, 29, 37, 41, 43, 47, 53, 59, 61, 67, 71, 73, 79, 83, 89, 97)]"
   ]
  },
  {
   "cell_type": "markdown",
   "metadata": {},
   "source": [
    "The procedural code is more readable compared to the comprehension"
   ]
  },
  {
   "cell_type": "code",
   "execution_count": null,
   "metadata": {},
   "outputs": [],
   "source": [
    "# procedural code is more readable in this case here\n",
    "x2 = []\n",
    "for i in range(100):\n",
    "    # optimus primes are beyond our reach, https://oeis.org/A217090 \n",
    "    if i not in (5, 7, 11, 13, 17, 19, 29, 37, 41, 43, 47, 53, 59, 61, 67, 71, 73, 79, 83, 89, 97):\n",
    "        if i <= 10:\n",
    "            x2.append(i)\n",
    "        elif 10 < i <= 20:\n",
    "            x2.append(i**2)\n",
    "        elif 20 < i <= 50:\n",
    "            x2.append(i**4)\n",
    "        else:\n",
    "            x2.append(1.0 / i)\n",
    "assert x2 == x1"
   ]
  },
  {
   "cell_type": "markdown",
   "metadata": {},
   "source": [
    "This can be shortened to comprehension for readability with a little bit of refactoring."
   ]
  },
  {
   "cell_type": "code",
   "execution_count": null,
   "metadata": {},
   "outputs": [],
   "source": [
    "def function(val):\n",
    "    if val <= 10:\n",
    "        return val\n",
    "    elif 10 < val <= 20:\n",
    "        return val**2\n",
    "    elif 20 < val <= 50:\n",
    "        return val**4\n",
    "    else:\n",
    "        return 1.0 / val\n",
    "\n",
    "def is_optimus_prime(val):\n",
    "    return val in (5, 7, 11, 13, 17, 19, 29, 37, 41, 43, 47, 53, 59, 61, 67, 71, 73, 79, 83, 89, 97)\n",
    "\n",
    "x3 = [function(i) for i in range(100) if not is_optimus_prime(i)]\n",
    "assert x1 == x2 == x3\n",
    "print(\"Passed!\")"
   ]
  },
  {
   "cell_type": "markdown",
   "metadata": {},
   "source": [
    "## Suggested exercise: set comprehensions\n",
    "\n",
    "Python sets (`set`) also have comprehension-based constructors. Try looking them up and writing some code to experiment with them, analogous to what you did above."
   ]
  },
  {
   "cell_type": "code",
   "execution_count": null,
   "metadata": {
    "collapsed": true
   },
   "outputs": [],
   "source": []
  }
 ],
 "metadata": {
  "kernelspec": {
   "display_name": "Python 3",
   "language": "python",
   "name": "python3"
  },
  "language_info": {
   "codemirror_mode": {
    "name": "ipython",
    "version": 3
   },
   "file_extension": ".py",
   "mimetype": "text/x-python",
   "name": "python",
   "nbconvert_exporter": "python",
   "pygments_lexer": "ipython3",
   "version": "3.6.2"
  }
 },
 "nbformat": 4,
 "nbformat_minor": 2
}
